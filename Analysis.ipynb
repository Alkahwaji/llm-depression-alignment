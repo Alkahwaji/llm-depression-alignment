{
 "cells": [
  {
   "cell_type": "code",
   "execution_count": null,
   "id": "4dae3538",
   "metadata": {},
   "outputs": [],
   "source": [
    "import os\n",
    "import re\n",
    "import csv\n",
    "import json\n",
    "import math\n",
    "import openai\n",
    "import numpy as np\n",
    "import pandas as pd\n",
    "import seaborn as sns\n",
    "import matplotlib.pyplot as plt\n",
    "from tqdm import tqdm\n",
    "from scipy import stats\n",
    "from datetime import datetime\n",
    "from collections import defaultdict, Counter\n",
    "from matplotlib.ticker import FuncFormatter\n",
    "from matplotlib.colors import ListedColormap"
   ]
  },
  {
   "cell_type": "code",
   "execution_count": null,
   "id": "3d682b58",
   "metadata": {},
   "outputs": [],
   "source": [
    "def extract_brackets(text, brackets='[]'):\n",
    "    assert len(brackets) == 2\n",
    "    pattern = re.escape(brackets[0]) + r'(.*?)' + re.escape(brackets[1])\n",
    "    matches = re.findall(pattern, text)\n",
    "    return matches\n",
    "\n",
    "def extract_amout(\n",
    "    message, \n",
    "    prefix='',\n",
    "    print_except=True,\n",
    "    type=float,\n",
    "    brackets='[]'\n",
    "):\n",
    "    try:\n",
    "        matches = extract_brackets(message, brackets=brackets)\n",
    "        matches = [s[len(prefix):] \\\n",
    "            if s.startswith(prefix) \\\n",
    "            else s for s in matches]\n",
    "        invalid = False\n",
    "        if len(matches) == 0:\n",
    "            invalid = True\n",
    "        for i in range(len(matches)):\n",
    "            if matches[i] != matches[0]:\n",
    "                invalid = True\n",
    "        if invalid:\n",
    "            raise ValueError('Invalid answer: %s' % message)\n",
    "        return type(matches[0])\n",
    "    except Exception as e: \n",
    "        if print_except: print(e)\n",
    "        return None\n",
    "\n",
    "def extract_choices(recrods):\n",
    "    choices = [extract_amout(\n",
    "        messages[-1]['content'], \n",
    "        prefix='$', \n",
    "        print_except=True,\n",
    "        type=float) for messages in records['messages']\n",
    "    ]\n",
    "    choices = [x for x in choices if x is not None]\n",
    "    # print(choices)\n",
    "    return choices"
   ]
  },
  {
   "cell_type": "code",
   "execution_count": null,
   "id": "acdf726f",
   "metadata": {},
   "outputs": [],
   "source": [
    "def choices_to_df(choices, hue):\n",
    "    df = pd.DataFrame(choices, columns=['choices'])\n",
    "    df['hue'] = hue\n",
    "    df['hue'] = df['hue'].astype(str)\n",
    "    return df\n",
    "\n",
    "def plot(\n",
    "        df, \n",
    "        title='',\n",
    "        x='choices',\n",
    "        hue='hue',\n",
    "        binrange=None, \n",
    "        binwidth=None,\n",
    "        stat='count',\n",
    "        multiple='dodge'\n",
    "    ):\n",
    "    if binrange is None:\n",
    "        binrange = (df[x].min(), df[x].max())\n",
    "    df = df.dropna(axis=0, subset=[x]).reset_index()\n",
    "    plt.figure(figsize=(8, 6))\n",
    "    ax = sns.histplot(\n",
    "        data=df, \n",
    "        x=x,\n",
    "        hue=hue, \n",
    "        kde=True,\n",
    "        binrange=binrange, \n",
    "        binwidth=binwidth,\n",
    "        stat=stat,\n",
    "        multiple=multiple,\n",
    "        shrink=.8,\n",
    "    )\n",
    "    ax.set_title(title)\n",
    "    return ax"
   ]
  },
  {
   "cell_type": "code",
   "execution_count": null,
   "id": "ac310ccc",
   "metadata": {},
   "outputs": [],
   "source": [
    "def plot_facet(\n",
    "    df_list,\n",
    "    x='choices',\n",
    "    hue='hue',\n",
    "    palette=None,\n",
    "    binrange=None,\n",
    "    bins=10,\n",
    "    # binwidth=10,\n",
    "    stat='count',\n",
    "    x_label='',\n",
    "    sharex=True,\n",
    "    sharey=False,\n",
    "    subplot=sns.histplot,\n",
    "    xticks_locs=None,\n",
    "    # kde=False,\n",
    "    **kwargs\n",
    "):\n",
    "    data = pd.concat(df_list)\n",
    "    if binrange is None:\n",
    "        binrange = (data[x].min(), data[x].max())\n",
    "    g = sns.FacetGrid(\n",
    "        data, row=hue, hue=hue, \n",
    "        palette=palette,\n",
    "        aspect=2, height=2, \n",
    "        sharex=sharex, sharey=sharey,\n",
    "        despine=True,\n",
    "    )\n",
    "    g.map_dataframe(\n",
    "        subplot, \n",
    "        x=x, \n",
    "        # kde=kde, \n",
    "        binrange=binrange, \n",
    "        bins=bins,\n",
    "        stat=stat,\n",
    "        **kwargs\n",
    "    )\n",
    "    # g.add_legend(title='hue')\n",
    "    g.set_axis_labels(x_label, stat.title())\n",
    "    g.set_titles(row_template=\"{row_name}\")\n",
    "    for ax in g.axes.flat:\n",
    "        ax.yaxis.set_major_formatter(\n",
    "            FuncFormatter(lambda y, pos: '{:.2f}'.format(y))\n",
    "        )\n",
    "    \n",
    "    binwidth = (binrange[1] - binrange[0]) / bins\n",
    "    if xticks_locs is None:\n",
    "        locs = np.linspace(binrange[0], binrange[1], bins//2+1)\n",
    "        locs = [loc + binwidth for loc in locs]\n",
    "    else: \n",
    "        locs = xticks_locs\n",
    "    labels = [str(int(loc)) for loc in locs]\n",
    "    locs = [loc + 0.5*binwidth for loc in locs]\n",
    "    plt.xticks(locs, labels)\n",
    "    \n",
    "    g.set(xlim=binrange)\n",
    "    return g"
   ]
  },
  {
   "cell_type": "code",
   "execution_count": null,
   "id": "5b11f998",
   "metadata": {},
   "outputs": [],
   "source": []
  },
  {
   "cell_type": "code",
   "execution_count": null,
   "id": "d07b2905",
   "metadata": {},
   "outputs": [],
   "source": [
    "def extract_integers(string):\n",
    "    return [int(x) for x in re.findall(r'\\d+', string)]"
   ]
  },
  {
   "cell_type": "code",
   "execution_count": null,
   "id": "865d69db",
   "metadata": {},
   "outputs": [],
   "source": [
    "def get_choices(dataF):\n",
    "    value_list = []\n",
    "    for i in dataF['Responses']:\n",
    "        value  = extract_integers(i[:7])\n",
    "        value_list.append(value)\n",
    "    choices = [item for sublist in value_list for item in sublist]\n",
    "    return choices"
   ]
  },
  {
   "cell_type": "code",
   "execution_count": null,
   "id": "8176a5eb",
   "metadata": {},
   "outputs": [],
   "source": [
    "import random\n",
    "import statistics\n",
    "\n",
    "def meanStdError(l):\n",
    "    mean = statistics.mean(l)\n",
    "    std_error = statistics.stdev(l)/ (len(l) ** 0.5 )\n",
    "\n",
    "    print (\"Mean : \", mean)\n",
    "    print (\"Standard error: \", std_error)"
   ]
  },
  {
   "cell_type": "code",
   "execution_count": null,
   "id": "ea4754cd",
   "metadata": {
    "scrolled": true
   },
   "outputs": [],
   "source": [
    "import matplotlib.pyplot as plt\n",
    "import seaborn as sns\n",
    "import numpy as np\n",
    "\n",
    "# Sample data\n",
    "data1 = np.random.normal(loc=0, scale=1, size=1000)\n",
    "data2 = np.random.normal(loc=1, scale=1.5, size=1000)\n",
    "\n",
    "# KDE plot\n",
    "sns.kdeplot(data1, label='Distribution 1', color='blue')\n",
    "sns.kdeplot(data2, label='Distribution 2', color='red')\n",
    "plt.xlabel('Value')\n",
    "plt.ylabel('Density')\n",
    "plt.title('Comparison of Distributions (KDE)')\n",
    "plt.legend()\n",
    "plt.show()\n",
    "\n",
    "# ECDF plot\n",
    "def ecdf(data):\n",
    "    sorted_data = np.sort(data)\n",
    "    y = np.arange(1, len(data) + 1) / len(data)\n",
    "    return sorted_data, y\n",
    "\n",
    "x1, y1 = ecdf(data1)\n",
    "x2, y2 = ecdf(data2)\n",
    "\n",
    "plt.plot(x1, y1, label='Distribution 1', marker='.', linestyle='none', color='blue')\n",
    "plt.plot(x2, y2, label='Distribution 2', marker='.', linestyle='none', color='red')\n",
    "plt.xlabel('Value')\n",
    "plt.ylabel('Cumulative Probability')\n",
    "plt.title('Comparison of Distributions (ECDF)')\n",
    "plt.legend()\n",
    "plt.show()\n"
   ]
  },
  {
   "cell_type": "markdown",
   "id": "1b94823c",
   "metadata": {},
   "source": [
    "### Tests"
   ]
  },
  {
   "cell_type": "code",
   "execution_count": null,
   "id": "82172245",
   "metadata": {},
   "outputs": [],
   "source": [
    "from scipy.stats import anderson_ksamp\n",
    "\n",
    "list1 = [10, 10, 20, 40, 35]\n",
    "list2 = [50, 80, 90, 100, 99]\n",
    "\n",
    "result = anderson_ksamp([list1, list2])\n",
    "\n",
    "print(\"Anderson-Darling test statistic:\", result.statistic)\n",
    "print(\"p-value:\", result.significance_level)\n"
   ]
  },
  {
   "cell_type": "code",
   "execution_count": null,
   "id": "eaf5258d",
   "metadata": {},
   "outputs": [],
   "source": []
  },
  {
   "cell_type": "markdown",
   "id": "70ed7dfb",
   "metadata": {},
   "source": [
    "### Dictator Game"
   ]
  },
  {
   "cell_type": "code",
   "execution_count": null,
   "id": "9cb21b3f",
   "metadata": {},
   "outputs": [],
   "source": [
    "df_baseline = pd.read_csv('data/DictatorGame/Dictator-GPT-3.5-turbo-baseline-Temp_default.csv')\n",
    "df_depression = pd.read_csv('data/DictatorGame/Dictator-GPT-3.5-turbo-depression-Temp_default.csv')\n",
    "df_autism = pd.read_csv('data/DictatorGame/Dictator-GPT-3.5-turbo-autism-Temp_default.csv')\n",
    "df_anxiety = pd.read_csv('data/DictatorGame/Dictator-GPT-3.5-turbo-anxiety-Temp_default.csv')\n",
    "df_bipolar = pd.read_csv('data/DictatorGame/Dictator-GPT-3.5-turbo-bipolar-Temp_default.csv')\n",
    "df_schizophrenia = pd.read_csv('data/DictatorGame/Dictator-GPT-3.5-turbo-schizophrenia-Temp_default.csv')\n",
    "df_PTSD = pd.read_csv('data/DictatorGame/Dictator-GPT-3.5-turbo-PTSD-Temp_default.csv')"
   ]
  },
  {
   "cell_type": "code",
   "execution_count": null,
   "id": "08d34c5a",
   "metadata": {},
   "outputs": [],
   "source": [
    "choices_baseline = get_choices(df_baseline)\n",
    "choices_depression = get_choices(df_depression)\n",
    "choices_autism = get_choices(df_autism)\n",
    "choices_anxiety = get_choices(df_anxiety)\n",
    "choices_bipolar = get_choices(df_bipolar)\n",
    "choices_schizophrenia = get_choices(df_schizophrenia)\n",
    "choices_PTSD = get_choices(df_PTSD)\n"
   ]
  },
  {
   "cell_type": "code",
   "execution_count": null,
   "id": "ad16b844",
   "metadata": {},
   "outputs": [],
   "source": [
    "meanStdError(choices_depression)"
   ]
  },
  {
   "cell_type": "code",
   "execution_count": null,
   "id": "5bef076a",
   "metadata": {},
   "outputs": [],
   "source": [
    "import random\n",
    "import statistics\n"
   ]
  },
  {
   "cell_type": "code",
   "execution_count": null,
   "id": "62fa5dea",
   "metadata": {
    "scrolled": true
   },
   "outputs": [],
   "source": [
    "statistics.mean(choices_baseline)"
   ]
  },
  {
   "cell_type": "code",
   "execution_count": null,
   "id": "11112f4e",
   "metadata": {},
   "outputs": [],
   "source": [
    "import numpy as np\n",
    "import matplotlib.pyplot as plt\n",
    "from scipy.stats import norm\n",
    "\n",
    "def bimodal_distribution_plot(mu1, sigma1, mu2, sigma2, size=1000):\n",
    "    # Generate random samples for each mode\n",
    "    mode1_samples = np.random.normal(mu1, sigma1, size)\n",
    "    mode2_samples = np.random.normal(mu2, sigma2, size)\n",
    "    \n",
    "    # Combine the samples\n",
    "    samples = np.concatenate((mode1_samples, mode2_samples))\n",
    "    \n",
    "    # Plot histogram\n",
    "    plt.hist(samples, bins=50, density=True, alpha=0.6, color='g')\n",
    "\n",
    "    # Plot the PDFs of the two normal distributions\n",
    "    x = np.linspace(min(samples), max(samples), 1000)\n",
    "    plt.plot(x, norm.pdf(x, mu1, sigma1), 'r-', label='Mode 1')\n",
    "    plt.plot(x, norm.pdf(x, mu2, sigma2), 'b-', label='Mode 2')\n",
    "    \n",
    "    plt.title('Bimodal Distribution')\n",
    "    plt.xlabel('Values')\n",
    "    plt.ylabel('Probability Density')\n",
    "    plt.legend()\n",
    "    plt.grid(True)\n",
    "    plt.show()\n",
    "\n",
    "# Parameters for the bimodal distribution\n",
    "mu1 = 10\n",
    "sigma1 = 2\n",
    "mu2 = 30\n",
    "sigma2 = 5\n",
    "\n",
    "# Plot the bimodal distribution\n",
    "bimodal_distribution_plot(mu1, sigma1, mu2, sigma2)\n"
   ]
  },
  {
   "cell_type": "code",
   "execution_count": null,
   "id": "b54c4122",
   "metadata": {},
   "outputs": [],
   "source": [
    "#Human\n",
    "binrange = (0, 100)\n",
    "moves = []\n",
    "with open('data/DictatorGame/dictator.csv', 'r') as f:\n",
    "    reader = csv.reader(f)\n",
    "    header = next(reader)\n",
    "    col2idx = {col: idx for idx, col in enumerate(header)}\n",
    "    for row in reader:\n",
    "        record = {col: row[idx] for col, idx in col2idx.items()}\n",
    "\n",
    "        if record['Role'] != 'first': continue\n",
    "        if int(record['Round']) > 1: continue\n",
    "        if int(record['Total']) != 100: continue\n",
    "        if record['move'] == 'None': continue\n",
    "        if record['gameType'] != 'dictator': continue\n",
    "\n",
    "        move = float(record['move'])\n",
    "        if move < binrange[0] or \\\n",
    "            move > binrange[1]: continue\n",
    "        \n",
    "        moves.append(move)\n",
    "\n",
    "df_dictator_human = choices_to_df(moves, 'Human')"
   ]
  },
  {
   "cell_type": "code",
   "execution_count": null,
   "id": "3c00751b",
   "metadata": {},
   "outputs": [],
   "source": [
    "df_dictator_baseline = choices_to_df(choices_baseline, hue=str('GPT-3.5-default'))\n",
    "df_dictator_depression = choices_to_df(choices_depression, hue=str('GPT-3.5-depression'))"
   ]
  },
  {
   "cell_type": "code",
   "execution_count": null,
   "id": "598dd961",
   "metadata": {},
   "outputs": [],
   "source": [
    "df_dictator_human"
   ]
  },
  {
   "cell_type": "code",
   "execution_count": null,
   "id": "28c4d2d0",
   "metadata": {},
   "outputs": [],
   "source": [
    "import matplotlib.pyplot as plt\n",
    "\n",
    "# Given list of values\n",
    "data = [\n",
    "    80, 80, 20, 10, 90, 10, 70, 90, 20, 30, 80, 40, 20, 25, 40, 90, 70, 70, 80, 10,\n",
    "    70, 30, 70, 80, 80, 70, 20, 80, 70, 20, 70, 70, 30, 20, 70, 90, 70, 80, 90, 70,\n",
    "    80, 70, 10, 70, 80, 80, 20, 80, 70, 80\n",
    "]\n",
    "\n",
    "# Plotting histogram\n",
    "plt.figure(figsize=(8, 6))\n",
    "plt.hist(data, bins=10, density=True, alpha=0.7, color='lightgray')\n",
    "plt.title('Distribution Density Histogram')\n",
    "plt.xlabel('Values (Split offered $)')\n",
    "plt.ylabel('Density')\n",
    "plt.grid(True)\n",
    "plt.show()\n"
   ]
  },
  {
   "cell_type": "code",
   "execution_count": null,
   "id": "53224230",
   "metadata": {},
   "outputs": [],
   "source": [
    "plot_facet(\n",
    "    df_list=[\n",
    "        # df_dictator_human, \n",
    "        df_dictator_baseline,\n",
    "        # df_dictator_depression,\n",
    "        # df_dictator_bipolar,\n",
    "        # df_dictator_autism,\n",
    "        # df_dictator_anxiety,\n",
    "        # df_dictator_schizophrenia,\n",
    "        # df_dictator_PTSD,\n",
    "        \n",
    "       \n",
    "    ],\n",
    "    binrange=(0, 100),\n",
    "    stat='density',\n",
    "    x_label='Split offered ($)',\n",
    "    kde=False,\n",
    ")\n",
    "\n",
    "# plt.savefig('figures/dictator-baseline-GPT-3.5.pdf', format='pdf', bbox_inches='tight')\n",
    "plt.show()"
   ]
  },
  {
   "cell_type": "code",
   "execution_count": null,
   "id": "5c46d7f5",
   "metadata": {},
   "outputs": [],
   "source": []
  },
  {
   "cell_type": "markdown",
   "id": "289c3696",
   "metadata": {
    "jp-MarkdownHeadingCollapsed": true
   },
   "source": [
    "### Ultimatum Game"
   ]
  },
  {
   "cell_type": "code",
   "execution_count": null,
   "id": "ada62805",
   "metadata": {},
   "outputs": [],
   "source": [
    "#Human\n",
    "df = pd.read_csv('data/UltimatumGame/ultimatum_strategy.csv')\n",
    "df = df[df['gameType'] == 'ultimatum_strategy']\n",
    "df = df[df['Role'] == 'player']\n",
    "df = df[df['Round'] == 1]\n",
    "df = df[df['Total'] == 100]\n",
    "df = df[df['move'] != 'None']\n",
    "df['propose'] = df['move'].apply(lambda x: eval(x)[0])\n",
    "df['accept'] = df['move'].apply(lambda x: eval(x)[1])\n",
    "df = df[(df['propose'] >= 0) & (df['propose'] <= 100)]\n",
    "df = df[(df['accept'] >= 0) & (df['accept'] <= 100)]\n",
    "# df.head()"
   ]
  },
  {
   "cell_type": "code",
   "execution_count": null,
   "id": "5cb12803",
   "metadata": {},
   "outputs": [],
   "source": [
    "df_ultimatum_propose_human = choices_to_df(list(df['propose']), 'UG-Human-Propose')\n",
    "df_ultimatum_response_human = choices_to_df(list(df['accept']), 'UG-Human-Response')"
   ]
  },
  {
   "cell_type": "code",
   "execution_count": null,
   "id": "3ce140e3",
   "metadata": {},
   "outputs": [],
   "source": [
    "df_UG_baseline_Proposer = pd.read_csv('data/UltimatumGame/UltimatumGame-GPT-3.5-turbo-baseline-Temp_default-Proposer.csv')\n",
    "df_UG_depression_Proposer = pd.read_csv('data/UltimatumGame/UltimatumGame-GPT-3.5-turbo-depression-Temp_default-Proposer.csv')\n",
    "df_UG_autism_Proposer = pd.read_csv('data/UltimatumGame/UltimatumGame-GPT-3.5-turbo-autism-Temp_default-Proposer.csv')\n",
    "df_UG_anxiety_Proposer = pd.read_csv('data/UltimatumGame/UltimatumGame-GPT-3.5-turbo-anxiety-Temp_default-Proposer.csv')\n",
    "df_UG_bipolar_Proposer = pd.read_csv('data/UltimatumGame/UltimatumGame-GPT-3.5-turbo-bipolar-Temp_default-Proposer.csv')\n",
    "df_UG_schizophrenia_Proposer = pd.read_csv('data/UltimatumGame/UltimatumGame-GPT-3.5-turbo-schizophrenia-Temp_default-Proposer.csv')\n",
    "df_UG_PTSD_Proposer = pd.read_csv('data/UltimatumGame/UltimatumGame-GPT-3.5-turbo-PTSD-Temp_default-Proposer.csv')\n",
    "df_UG_baseline_Responder = pd.read_csv('data/UltimatumGame/UltimatumGame-GPT-3.5-turbo-baseline-Temp_default-Responder.csv')\n",
    "df_UG_depression_Responder = pd.read_csv('data/UltimatumGame/UltimatumGame-GPT-3.5-turbo-depression-Temp_default-Responder.csv')\n",
    "df_UG_autism_Responder = pd.read_csv('data/UltimatumGame/UltimatumGame-GPT-3.5-turbo-autism-Temp_default-Responder.csv')\n",
    "df_UG_anxiety_Responder = pd.read_csv('data/UltimatumGame/UltimatumGame-GPT-3.5-turbo-anxiety-Temp_default-Responder.csv')\n",
    "df_UG_bipolar_Responder = pd.read_csv('data/UltimatumGame/UltimatumGame-GPT-3.5-turbo-bipolar-Temp_default-Responder.csv')\n",
    "df_UG_schizophrenia_Responder = pd.read_csv('data/UltimatumGame/UltimatumGame-GPT-3.5-turbo-schizophrenia-Temp_default-Responder.csv')\n",
    "df_UG_PTSD_Responder = pd.read_csv('data/UltimatumGame/UltimatumGame-GPT-3.5-turbo-PTSD-Temp_default-Responder.csv')"
   ]
  },
  {
   "cell_type": "code",
   "execution_count": null,
   "id": "a56ae166",
   "metadata": {},
   "outputs": [],
   "source": [
    "choices_UG_baseline_Proposer = get_choices(df_UG_baseline_Proposer)\n",
    "choices_UG_depression_Proposer = get_choices(df_UG_depression_Proposer)\n",
    "choices_UG_autism_Proposer = get_choices(df_UG_autism_Proposer)\n",
    "choices_UG_anxiety_Proposer = get_choices(df_UG_anxiety_Proposer)\n",
    "choices_UG_bipolar_Proposer = get_choices(df_UG_bipolar_Proposer)\n",
    "choices_UG_schizophrenia_Proposer = get_choices(df_UG_schizophrenia_Proposer)\n",
    "choices_UG_PTSD_Proposer = get_choices(df_UG_PTSD_Proposer)\n",
    "choices_UG_baseline_Responder = get_choices(df_UG_baseline_Responder)\n",
    "choices_UG_depression_Responder = get_choices(df_UG_depression_Responder)\n",
    "choices_UG_autism_Responder = get_choices(df_UG_autism_Responder)\n",
    "choices_UG_anxiety_Responder = get_choices(df_UG_anxiety_Responder)\n",
    "choices_UG_bipolar_Responder = get_choices(df_UG_bipolar_Responder)\n",
    "choices_UG_schizophrenia_Responder = get_choices(df_UG_schizophrenia_Responder)\n",
    "choices_UG_PTSD_Responder = get_choices(df_UG_PTSD_Responder)"
   ]
  },
  {
   "cell_type": "code",
   "execution_count": null,
   "id": "575a13f4",
   "metadata": {},
   "outputs": [],
   "source": [
    "df_UG_baseline_Proposer = choices_to_df(choices_UG_baseline_Proposer , hue=str('GPT-3.5-UG-default-Proposer'))\n",
    "df_UG_depression_Proposer = choices_to_df(choices_UG_depression_Proposer , hue=str('GPT-3.5-UG-depression-Proposer'))\n",
    "df_UG_autism_Proposer = choices_to_df(choices_UG_autism_Proposer , hue=str('GPT-3.5-UG-autism-Proposer'))\n",
    "df_UG_anxiety_Proposer = choices_to_df(choices_UG_anxiety_Proposer , hue=str('GPT-3.5-UG-anxiety_Proposer'))\n",
    "df_UG_bipolar_Proposer = choices_to_df(choices_UG_bipolar_Proposer, hue=str('GPT-3.5-UG-bipolar_Proposer'))\n",
    "df_UG_schizophrenia_Proposer = choices_to_df(choices_UG_schizophrenia_Proposer , hue=str('GPT-3.5-UG-schizophrenia_Proposer '))\n",
    "df_UG_PTSD_Proposer = choices_to_df(choices_UG_PTSD_Proposer , hue=str('GPT-3.5-UG-PTSD_Proposer'))\n",
    "df_UG_baseline_Responder = choices_to_df(choices_UG_baseline_Responder , hue=str('GPT-3.5-UG-baseline_Responder'))\n",
    "df_UG_depression_Responder = choices_to_df(choices_UG_depression_Responder , hue=str('GPT-3.5-UG-depression_Responder'))\n",
    "df_UG_autism_Responder = choices_to_df(choices_UG_autism_Responder , hue=str('GPT-3.5-UG-autism_Responder'))\n",
    "df_UG_anxiety_Responder = choices_to_df(choices_UG_anxiety_Responder , hue=str('GPT-3.5-UG-anxiety_Responder'))\n",
    "df_UG_bipolar_Responder = choices_to_df(choices_UG_bipolar_Responder , hue=str('GPT-3.5-UG-bipolar_Responder'))\n",
    "df_UG_schizophrenia_Responder = choices_to_df(choices_UG_schizophrenia_Responder, hue=str('GPT-3.5-UG-schizophrenia_Responder'))\n",
    "df_UG_PTSD_Responder = choices_to_df(choices_UG_PTSD_Responder , hue=str('GPT-3.5-UG-PTSD_Responder'))\n"
   ]
  },
  {
   "cell_type": "code",
   "execution_count": null,
   "id": "8a50e5dc",
   "metadata": {},
   "outputs": [],
   "source": [
    "plot_facet(\n",
    "    df_list=[\n",
    "        # df_UG_baseline_Proposer ,\n",
    "        # df_UG_depression_Proposer,\n",
    "        # df_UG_autism_Proposer ,\n",
    "        # df_UG_anxiety_Proposer ,\n",
    "        # df_UG_bipolar_Proposer ,\n",
    "        # df_UG_schizophrenia_Proposer ,\n",
    "        # df_UG_PTSD_Proposer ,\n",
    "        # df_UG_baseline_Responder ,\n",
    "        # df_UG_depression_Responder ,\n",
    "        # df_UG_autism_Responder ,\n",
    "        # df_UG_anxiety_Responder ,\n",
    "        # df_UG_bipolar_Responder ,\n",
    "        # df_UG_schizophrenia_Responder ,\n",
    "        # df_UG_PTSD_Responder ,\n",
    "        # df_ultimatum_propose_human,\n",
    "        df_ultimatum_response_human,\n",
    "    ],\n",
    "    binrange=(0, 100),\n",
    "    stat='density',\n",
    "    x_label='Split offered ($)',\n",
    "    kde=False,\n",
    ")\n",
    "\n",
    "plt.savefig('figures/UG-Human-Responder.pdf', format='pdf', bbox_inches='tight')\n",
    "plt.show()"
   ]
  },
  {
   "cell_type": "code",
   "execution_count": null,
   "id": "438fbb66",
   "metadata": {},
   "outputs": [],
   "source": []
  },
  {
   "cell_type": "code",
   "execution_count": null,
   "id": "82b1d6e9",
   "metadata": {},
   "outputs": [],
   "source": []
  },
  {
   "cell_type": "markdown",
   "id": "f150d9a7",
   "metadata": {
    "jp-MarkdownHeadingCollapsed": true
   },
   "source": [
    "### Trust Game"
   ]
  },
  {
   "cell_type": "code",
   "execution_count": null,
   "id": "6575967f",
   "metadata": {},
   "outputs": [],
   "source": [
    "#GPT-3.5 - \n",
    "#banker-10\n",
    "trust10_banker_baseline = pd.read_csv('data/TrustGame/Trust10-Banker-GPT-3.5-turbo-baseline-Temp_default.csv')\n",
    "trust10_banker_depression = pd.read_csv('data/TrustGame/Trust10-Banker-GPT-3.5-turbo-depression-Temp_default.csv')\n",
    "#banker-50\n",
    "trust50_banker_baseline = pd.read_csv('data/TrustGame/Trust50-Banker-GPT-3.5-turbo-baseline-Temp_default.csv')\n",
    "trust50_banker_depression = pd.read_csv('data/TrustGame/Trust50-Banker-GPT-3.5-turbo-depression-Temp_default.csv')\n",
    "#banker-100\n",
    "trust100_banker_baseline = pd.read_csv('data/TrustGame/Trust100-Banker-GPT-3.5-turbo-baseline-Temp_default.csv')\n",
    "trust100_banker_depression = pd.read_csv('data/TrustGame/Trust100-Banker-GPT-3.5-turbo-depression-Temp_default.csv')\n",
    "#Investor\n",
    "trust_investor_baseline = pd.read_csv('data/TrustGame/Trust-Investor-GPT-3.5-turbo-baseline-Temp_default.csv')\n",
    "trust_investor_depression = pd.read_csv('data/TrustGame/Trust-Investor-GPT-3.5-turbo-depression-Temp_default.csv')\n"
   ]
  },
  {
   "cell_type": "code",
   "execution_count": null,
   "id": "973e9e25",
   "metadata": {},
   "outputs": [],
   "source": [
    "choices_trust10_banker_baseline = get_choices(trus10_banker_baseline)\n",
    "choices_trust10_banker_depression = get_choices(trust10_banker_depression)\n",
    "\n",
    "choices_trust50_banker_baseline = get_choices(trust50_banker_baseline)\n",
    "choices_trust50_banker_depression = get_choices(trust50_banker_depression)\n",
    "\n",
    "choices_trust100_banker_baseline = get_choices(trust100_banker_baseline)\n",
    "choices_trust100_banker_depression = get_choices(trust100_banker_depression)\n",
    "\n",
    "choices_trust_investor_baseline = get_choices(trust_investor_baseline)\n",
    "choices_trust_investor_depression = get_choices(trust_investor_depression)\n"
   ]
  },
  {
   "cell_type": "code",
   "execution_count": null,
   "id": "eb2c7895",
   "metadata": {},
   "outputs": [],
   "source": [
    "meanStdError(choices_trust_investor_depression)\n",
    "\n",
    "# choices_trust50_banker_baseline\n",
    "# choices_trust50_banker_depression \n",
    "\n",
    "# choices_trust100_banker_baseline \n",
    "# choices_trust100_banker_depression \n",
    "\n",
    "# choices_trust_investor_baseline \n",
    "# choices_trust_investor_depression "
   ]
  },
  {
   "cell_type": "code",
   "execution_count": null,
   "id": "21e021f4",
   "metadata": {},
   "outputs": [],
   "source": []
  },
  {
   "cell_type": "code",
   "execution_count": null,
   "id": "2d0dec28",
   "metadata": {},
   "outputs": [],
   "source": []
  },
  {
   "cell_type": "code",
   "execution_count": null,
   "id": "2fcf09b6",
   "metadata": {},
   "outputs": [],
   "source": []
  },
  {
   "cell_type": "code",
   "execution_count": null,
   "id": "b69408f3",
   "metadata": {},
   "outputs": [],
   "source": []
  },
  {
   "cell_type": "code",
   "execution_count": null,
   "id": "119eb09c",
   "metadata": {},
   "outputs": [],
   "source": []
  },
  {
   "cell_type": "code",
   "execution_count": null,
   "id": "a263018d",
   "metadata": {},
   "outputs": [],
   "source": [
    "#GPT-3.5\n",
    "trus10_banker_baseline = pd.read_csv('data/TrustGame/Trust10-Banker-GPT-3.5-turbo-baseline-Temp_default.csv')\n",
    "trus10_banker_depression = pd.read_csv('data/TrustGame/Trust10-Banker-GPT-3.5-turbo-depression-Temp_default.csv')\n",
    "trus10_banker_autism = pd.read_csv('data/TrustGame/Trust10-Banker-GPT-3.5-turbo-autism-Temp_default.csv')\n",
    "trus10_banker_anxiety = pd.read_csv('data/TrustGame/Trust10-Banker-GPT-3.5-turbo-anxiety-Temp_default.csv')\n",
    "trus10_banker_bipolar = pd.read_csv('data/TrustGame/Trust10-Banker-GPT-3.5-turbo-bipolar-Temp_default.csv')\n",
    "trus10_banker_schizophrenia = pd.read_csv('data/TrustGame/Trust10-Banker-GPT-3.5-turbo-schizophrenia-Temp_default.csv')\n",
    "trus10_banker_PTSD = pd.read_csv('data/TrustGame/Trust10-Banker-GPT-3.5-turbo-PTSD-Temp_default.csv')\n",
    "trus50_banker_baseline = pd.read_csv('data/TrustGame/Trust50-Banker-GPT-3.5-turbo-baseline-Temp_default.csv')\n",
    "trus50_banker_depression = pd.read_csv('data/TrustGame/Trust50-Banker-GPT-3.5-turbo-depression-Temp_default.csv')\n",
    "trus50_banker_autism = pd.read_csv('data/TrustGame/Trust50-Banker-GPT-3.5-turbo-autism-Temp_default.csv')\n",
    "trus50_banker_anxiety = pd.read_csv('data/TrustGame/Trust50-Banker-GPT-3.5-turbo-anxiety-Temp_default.csv')\n",
    "trus50_banker_bipolar = pd.read_csv('data/TrustGame/Trust50-Banker-GPT-3.5-turbo-bipolar-Temp_default.csv')\n",
    "trus50_banker_schizophrenia = pd.read_csv('data/TrustGame/Trust50-Banker-GPT-3.5-turbo-schizophrenia-Temp_default.csv')\n",
    "trus50_banker_PTSD = pd.read_csv('data/TrustGame/Trust50-Banker-GPT-3.5-turbo-PTSD-Temp_default.csv')\n",
    "trus100_banker_baseline = pd.read_csv('data/TrustGame/Trust100-Banker-GPT-3.5-turbo-baseline-Temp_default.csv')\n",
    "trus100_banker_depression = pd.read_csv('data/TrustGame/Trust100-Banker-GPT-3.5-turbo-depression-Temp_default.csv')\n",
    "trus100_banker_autism = pd.read_csv('data/TrustGame/Trust100-Banker-GPT-3.5-turbo-autism-Temp_default.csv')\n",
    "trus100_banker_anxiety = pd.read_csv('data/TrustGame/Trust100-Banker-GPT-3.5-turbo-anxiety-Temp_default.csv')\n",
    "trus100_banker_bipolar = pd.read_csv('data/TrustGame/Trust100-Banker-GPT-3.5-turbo-bipolar-Temp_default.csv')\n",
    "trus100_banker_schizophrenia = pd.read_csv('data/TrustGame/Trust100-Banker-GPT-3.5-turbo-schizophrenia-Temp_default.csv')\n",
    "trus100_banker_PTSD = pd.read_csv('data/TrustGame/Trust100-Banker-GPT-3.5-turbo-PTSD-Temp_default.csv')\n",
    "trust_investor_baseline = pd.read_csv('data/TrustGame/Trust-Investor-GPT-3.5-turbo-baseline-Temp_default.csv')\n",
    "trust_investor_depression = pd.read_csv('data/TrustGame/Trust-Investor-GPT-3.5-turbo-depression-Temp_default.csv')\n",
    "trust_investor_autism = pd.read_csv('data/TrustGame/Trust-Investor-GPT-3.5-turbo-autism-Temp_default.csv')\n",
    "trust_investor_anxiety = pd.read_csv('data/TrustGame/Trust-Investor-GPT-3.5-turbo-anxiety-Temp_default.csv')\n",
    "trust_investor_bipolar = pd.read_csv('data/TrustGame/Trust-Investor-GPT-3.5-turbo-bipolar-Temp_default.csv')\n",
    "trust_investor_schizophrenia = pd.read_csv('data/TrustGame/Trust-Investor-GPT-3.5-turbo-schizophrenia-Temp_default.csv')\n",
    "trust_investor_PTSD = pd.read_csv('data/TrustGame/Trust-Investor-GPT-3.5-turbo-PTSD-Temp_default.csv')"
   ]
  },
  {
   "cell_type": "code",
   "execution_count": null,
   "id": "94a7417f",
   "metadata": {},
   "outputs": [],
   "source": [
    "choices_trust10_banker_baseline = get_choices(trus10_banker_baseline)\n",
    "choices_trust10_banker_depression = get_choices(trus10_banker_depression)\n",
    "choices_trust10_banker_autism = get_choices(trus10_banker_autism)\n",
    "choices_trust10_banker_anxiety = get_choices(trus10_banker_anxiety)\n",
    "choices_trust10_banker_bipolar = get_choices(trus10_banker_bipolar)\n",
    "choices_trust10_banker_schizophrenia = get_choices(trus10_banker_schizophrenia)\n",
    "choices_trust10_banker_PTSD = get_choices(trus10_banker_PTSD)\n",
    "choices_trust50_banker_baseline = get_choices(trus50_banker_baseline)\n",
    "choices_trust50_banker_depression = get_choices(trus50_banker_depression)\n",
    "choices_trust50_banker_autism = get_choices(trus50_banker_autism)\n",
    "choices_trust50_banker_anxiety = get_choices(trus50_banker_anxiety)\n",
    "choices_trust50_banker_bipolar = get_choices(trus50_banker_bipolar)\n",
    "choices_trust50_banker_schizophrenia = get_choices(trus50_banker_schizophrenia)\n",
    "choices_trust50_banker_PTSD = get_choices(trus50_banker_PTSD)\n",
    "choices_trust100_banker_baseline = get_choices(trus100_banker_baseline)\n",
    "choices_trust100_banker_depression = get_choices(trus100_banker_depression)\n",
    "choices_trust100_banker_autism = get_choices(trus100_banker_autism)\n",
    "choices_trust100_banker_anxiety = get_choices(trus100_banker_anxiety)\n",
    "choices_trust100_banker_bipolar = get_choices(trus100_banker_bipolar)\n",
    "choices_trust100_banker_schizophrenia = get_choices(trus100_banker_schizophrenia)\n",
    "choices_trust100_banker_PTSD = get_choices(trus100_banker_PTSD)\n",
    "choices_trust_investor_baseline = get_choices(trust_investor_baseline)\n",
    "choices_trust_investor_depression = get_choices(trust_investor_depression)\n",
    "choices_trust_investor_autism = get_choices(trust_investor_autism)\n",
    "choices_trust_investor_anxiety = get_choices(trust_investor_anxiety)\n",
    "choices_trust_investor_bipolar = get_choices(trust_investor_bipolar)\n",
    "choices_trust_investor_schizophrenia = get_choices(trust_investor_schizophrenia)\n",
    "choices_trust_investor_PTSD = get_choices(trust_investor_PTSD)"
   ]
  },
  {
   "cell_type": "code",
   "execution_count": null,
   "id": "213efcea",
   "metadata": {},
   "outputs": [],
   "source": [
    "#GPT-3.5\n",
    "df_trust10_banker_baseline = choices_to_df(choices_trust10_banker_baseline , hue=str('GPT-3.5-Trust10-banker-default'))\n",
    "df_trust10_banker_depression = choices_to_df(choices_trust10_banker_depression , hue=str('GPT-3.5-Trust10-banker-depression'))\n",
    "df_trust10_banker_autism = choices_to_df(choices_trust10_banker_autism , hue=str('GPT-3.5-Trust10-banker-autism'))\n",
    "df_trust10_banker_anxiety = choices_to_df(choices_trust10_banker_anxiety , hue=str('GPT-3.5-Trust10-banker-anxiety'))\n",
    "df_trust10_banker_bipolar = choices_to_df(choices_trust10_banker_bipolar , hue=str('GPT-3.5-Trust10-banker-bipolar'))\n",
    "df_trust10_banker_schizophrenia = choices_to_df(choices_trust10_banker_schizophrenia , hue=str('GPT-3.5-Trust10-banker-schizophrenia'))\n",
    "df_trust10_banker_PTSD = choices_to_df(choices_trust10_banker_PTSD , hue=str('GPT-3.5-Trust10-banker-PTSD'))\n",
    "df_trust50_banker_baseline = choices_to_df(choices_trust50_banker_baseline , hue=str('GPT-3.5-Trust50-banker-default'))\n",
    "df_trust50_banker_depression = choices_to_df(choices_trust50_banker_depression , hue=str('GPT-3.5-Trust50-banker-depression'))\n",
    "df_trust50_banker_autism = choices_to_df(choices_trust50_banker_autism , hue=str('GPT-3.5-Trust50-banker-autism'))\n",
    "df_trust50_banker_anxiety = choices_to_df(choices_trust50_banker_anxiety , hue=str('GPT-3.5-Trust50-banker-anxiety'))\n",
    "df_trust50_banker_bipolar = choices_to_df(choices_trust50_banker_bipolar , hue=str('GPT-3.5-Trust50-banker-bipolar'))\n",
    "df_trust50_banker_schizophrenia = choices_to_df(choices_trust50_banker_schizophrenia , hue=str('GPT-3.5-Trust50-banker-schizophrenia'))\n",
    "df_trust50_banker_PTSD = choices_to_df(choices_trust50_banker_PTSD , hue=str('GPT-3.5-Trust50-banker-PTSD'))\n",
    "df_trust100_banker_baseline = choices_to_df(choices_trust100_banker_baseline , hue=str('GPT-3.5-Trust100-banker-default'))\n",
    "df_trust100_banker_depression = choices_to_df(choices_trust100_banker_depression , hue=str('GPT-3.5-Trust100-banker-depression'))\n",
    "df_trust100_banker_autism = choices_to_df(choices_trust100_banker_autism , hue=str('GPT-3.5-Trust100-banker-autism'))\n",
    "df_trust100_banker_anxiety = choices_to_df(choices_trust100_banker_anxiety , hue=str('GPT-3.5-Trust100-banker-anxiety'))\n",
    "df_trust100_banker_bipolar = choices_to_df(choices_trust100_banker_bipolar , hue=str('GPT-3.5-Trust100-banker-bipolar'))\n",
    "df_trust100_banker_schizophrenia = choices_to_df(choices_trust100_banker_schizophrenia , hue=str('GPT-3.5-Trust100-banker-schizophrenia'))\n",
    "df_trust100_banker_PTSD = choices_to_df(choices_trust100_banker_PTSD , hue=str('GPT-3.5-Trust100-banker-PTSD'))\n",
    "df_trust_investor_baseline = choices_to_df(choices_trust_investor_baseline, hue=str('GPT-3.5-Trust-investor-baseline'))\n",
    "df_trust_investor_depression = choices_to_df(choices_trust_investor_depression, hue=str('GPT-3.5-Trust-investor-depression'))\n",
    "df_trust_investor_autism = choices_to_df(choices_trust_investor_autism, hue=str('GPT-3.5-Trust-investor-autism'))\n",
    "df_trust_investor_anxiety = choices_to_df(choices_trust_investor_anxiety, hue=str('GPT-3.5-Trust-investor-anxiety'))\n",
    "df_trust_investor_bipolar = choices_to_df(choices_trust_investor_bipolar, hue=str('GPT-3.5-Trust-investor-bipolar'))\n",
    "df_trust_investor_schizophrenia = choices_to_df(choices_trust_investor_schizophrenia, hue=str('GPT-3.5-Trust-investor-schizophrenia'))\n",
    "df_trust_investor_PTSD = choices_to_df(choices_trust_investor_PTSD, hue=str('GPT-3.5-Trust-investor-PTSD'))"
   ]
  },
  {
   "cell_type": "code",
   "execution_count": null,
   "id": "71e812ab",
   "metadata": {},
   "outputs": [],
   "source": [
    "plot_facet(\n",
    "    df_list=[\n",
    "            # df_trust10_banker_baseline ,\n",
    "            # df_trust10_banker_depression,\n",
    "            # df_trust10_banker_autism ,\n",
    "            # df_trust10_banker_anxiety ,\n",
    "            # df_trust10_banker_bipolar ,\n",
    "            # df_trust10_banker_schizophrenia ,\n",
    "            # df_trust10_banker_PTSD ,\n",
    "            # df_trust50_banker_baseline ,\n",
    "            # df_trust50_banker_depression ,\n",
    "            # df_trust50_banker_autism ,\n",
    "            # df_trust50_banker_anxiety ,\n",
    "            # df_trust50_banker_bipolar ,\n",
    "            # df_trust50_banker_schizophrenia ,\n",
    "            # df_trust50_banker_PTSD ,\n",
    "            # df_trust100_banker_baseline ,\n",
    "            # df_trust100_banker_depression ,\n",
    "            # df_trust100_banker_autism ,\n",
    "            # df_trust100_banker_anxiety ,\n",
    "            # df_trust100_banker_bipolar ,\n",
    "            # df_trust100_banker_schizophrenia ,\n",
    "            # df_trust100_banker_PTSD ,\n",
    "            # df_trust_investor_baseline,\n",
    "            # df_trust_investor_depression ,\n",
    "            # df_trust_investor_autism ,\n",
    "            # df_trust_investor_anxiety ,\n",
    "            # df_trust_investor_bipolar ,\n",
    "            # df_trust_investor_schizophrenia ,\n",
    "            # df_trust_investor_PTSD ,\n",
    "    ],\n",
    "    binrange=(0, 100),\n",
    "    stat='density',\n",
    "    x_label='Split offered ($)',\n",
    "    kde=False,\n",
    ")\n",
    "\n",
    "plt.savefig('figures/Trust-investor-PTSD.pdf', format='pdf', bbox_inches='tight')\n",
    "plt.show()"
   ]
  },
  {
   "cell_type": "code",
   "execution_count": null,
   "id": "7a7d3368",
   "metadata": {},
   "outputs": [],
   "source": []
  },
  {
   "cell_type": "code",
   "execution_count": null,
   "id": "53a81d34",
   "metadata": {},
   "outputs": [],
   "source": []
  },
  {
   "cell_type": "markdown",
   "id": "0181294d",
   "metadata": {
    "jp-MarkdownHeadingCollapsed": true
   },
   "source": [
    "### Public Goods Game"
   ]
  },
  {
   "cell_type": "code",
   "execution_count": null,
   "id": "475ec272",
   "metadata": {},
   "outputs": [],
   "source": [
    "import re\n",
    "\n",
    "def extract_integer(text):\n",
    "    # Define the regular expression pattern to match integers\n",
    "    pattern = r'\\b\\d+\\b'\n",
    "    \n",
    "    # Use the findall method to find all matches of the pattern in the text\n",
    "    integers = re.findall(pattern, text)\n",
    "    \n",
    "    # If integers are found, return the first one (you can modify this behavior as needed)\n",
    "    if integers:\n",
    "        return int(integers[0])\n",
    "    else:\n",
    "        return None"
   ]
  },
  {
   "cell_type": "code",
   "execution_count": null,
   "id": "2dcfcd85",
   "metadata": {},
   "outputs": [],
   "source": [
    "def get_choices(dataF):\n",
    "    value_list = []\n",
    "    for i in dataF['Responses']:\n",
    "        value  = extract_integer(i)\n",
    "        value_list.append(value)\n",
    "    return value_list"
   ]
  },
  {
   "cell_type": "code",
   "execution_count": null,
   "id": "69b1a0cc",
   "metadata": {},
   "outputs": [],
   "source": [
    "#GPT-3.5\n",
    "PG_1st_baseline = pd.read_csv('data/PublicGoodsGame/PG-1st-GPT-3.5-turbo-baseline-Temp_default.csv')\n",
    "PG_1st_depression = pd.read_csv('data/PublicGoodsGame/PG-1st-GPT-3.5-turbo-depression-Temp_default.csv')\n",
    "PG_1st_autism = pd.read_csv('data/PublicGoodsGame/PG-1st-GPT-3.5-turbo-autism-Temp_default.csv')\n",
    "PG_1st_anxiety = pd.read_csv('data/PublicGoodsGame/PG-1st-GPT-3.5-turbo-anxiety-Temp_default.csv')\n",
    "PG_1st_bipolar = pd.read_csv('data/PublicGoodsGame/PG-1st-GPT-3.5-turbo-bipolar-Temp_default.csv')\n",
    "PG_1st_schizophrenia = pd.read_csv('data/PublicGoodsGame/PG-1st-GPT-3.5-turbo-schizophrenia-Temp_default.csv')\n",
    "PG_1st_PTSD = pd.read_csv('data/PublicGoodsGame/PG-1st-GPT-3.5-turbo-PTSD-Temp_default.csv')"
   ]
  },
  {
   "cell_type": "code",
   "execution_count": null,
   "id": "533a4f7b",
   "metadata": {},
   "outputs": [],
   "source": [
    "choices_PG_1st_baseline = get_choices(PG_1st_baseline)\n",
    "choices_PG_1st_depression = get_choices(PG_1st_depression)\n",
    "choices_PG_1st_autism = get_choices(PG_1st_autism)\n",
    "choices_PG_1st_anxiety = get_choices(PG_1st_anxiety)\n",
    "choices_PG_1st_bipolar = get_choices(PG_1st_bipolar)\n",
    "choices_PG_1st_schizophrenia = get_choices(PG_1st_schizophrenia)\n",
    "choices_PG_1st_PTSD = get_choices(PG_1st_PTSD)"
   ]
  },
  {
   "cell_type": "code",
   "execution_count": null,
   "id": "24ff329b",
   "metadata": {},
   "outputs": [],
   "source": [
    "df_PG_1st_baseline = choices_to_df(choices_PG_1st_baseline , hue=str('GPT-3.5-PG_1st-default'))\n",
    "df_PG_1st_depression = choices_to_df(choices_PG_1st_depression , hue=str('GPT-3.5-PG_1st-depression'))\n",
    "df_PG_1st_autism = choices_to_df(choices_PG_1st_autism , hue=str('GPT-3.5-PG_1st-autism'))\n",
    "df_PG_1st_anxiety = choices_to_df(choices_PG_1st_anxiety , hue=str('GPT-3.5-PG_1st-anxiety'))\n",
    "df_PG_1st_bipolar = choices_to_df(choices_PG_1st_bipolar , hue=str('GPT-3.5-PG_1st-bipolar'))\n",
    "df_PG_1st_schizophrenia = choices_to_df(choices_PG_1st_schizophrenia , hue=str('GPT-3.5-PG_1st-schizophrenia'))\n",
    "df_PG_1st_PTSD = choices_to_df(choices_PG_1st_PTSD , hue=str('GPT-3.5-PG_1st-PTSD'))"
   ]
  },
  {
   "cell_type": "code",
   "execution_count": null,
   "id": "5cbebb8a",
   "metadata": {},
   "outputs": [],
   "source": [
    "plot_facet(\n",
    "    df_list=[\n",
    "            # df_PG_1st_baseline,\n",
    "            # df_PG_1st_depression ,\n",
    "            # df_PG_1st_autism ,\n",
    "            # df_PG_1st_anxiety ,\n",
    "            # df_PG_1st_bipolar ,\n",
    "            # df_PG_1st_schizophrenia ,\n",
    "            df_PG_1st_PTSD ,\n",
    "    ],\n",
    "    binrange=(0, 100),\n",
    "    stat='density',\n",
    "    x_label='Split offered ($)',\n",
    "    kde=False,\n",
    ")\n",
    "\n",
    "plt.savefig('figures/PG-1st-PTSD.pdf', format='pdf', bbox_inches='tight')\n",
    "plt.show()"
   ]
  },
  {
   "cell_type": "code",
   "execution_count": null,
   "id": "b49c67f8",
   "metadata": {},
   "outputs": [],
   "source": []
  },
  {
   "cell_type": "code",
   "execution_count": null,
   "id": "5290817c",
   "metadata": {},
   "outputs": [],
   "source": []
  },
  {
   "cell_type": "code",
   "execution_count": null,
   "id": "e38d4071",
   "metadata": {},
   "outputs": [],
   "source": []
  },
  {
   "cell_type": "code",
   "execution_count": null,
   "id": "f8f5d335",
   "metadata": {},
   "outputs": [],
   "source": []
  },
  {
   "cell_type": "code",
   "execution_count": null,
   "id": "dfb92235",
   "metadata": {},
   "outputs": [],
   "source": [
    "#GPT-3.5\n",
    "PG_1st_baseline = pd.read_csv('data/PublicGoodsGame/PG-1st-GPT-3.5-turbo-baseline-Temp_default.csv')\n",
    "PG_1st_depression = pd.read_csv('data/PublicGoodsGame/PG-1st-GPT-3.5-turbo-depression-Temp_default.csv')\n",
    "#GPT-4\n",
    "PG_1st_baseline4 = pd.read_csv('data/PublicGoodsGame/PG-1st-GPT-4-baseline-Temp_default.csv')\n",
    "PG_1st_depression4 = pd.read_csv('data/PublicGoodsGame/PG-1st-GPT-4-depression-Temp_default.csv')"
   ]
  },
  {
   "cell_type": "code",
   "execution_count": null,
   "id": "6de48c24",
   "metadata": {},
   "outputs": [],
   "source": [
    "choices_PG_1st_baseline = get_choices(PG_1st_baseline)\n",
    "choices_PG_1st_depression = get_choices(PG_1st_depression)\n",
    "choices_PG_1st_baseline4 = get_choices(PG_1st_baseline4)\n",
    "choices_PG_1st_depression4 = get_choices(PG_1st_depression4)"
   ]
  },
  {
   "cell_type": "code",
   "execution_count": null,
   "id": "6b8f0696",
   "metadata": {},
   "outputs": [],
   "source": [
    "meanStdError(choices_PG_1st_depression4)"
   ]
  },
  {
   "cell_type": "code",
   "execution_count": null,
   "id": "4a8eb26f",
   "metadata": {},
   "outputs": [],
   "source": []
  },
  {
   "cell_type": "markdown",
   "id": "666b53a1",
   "metadata": {
    "jp-MarkdownHeadingCollapsed": true
   },
   "source": [
    "### PD"
   ]
  },
  {
   "cell_type": "code",
   "execution_count": null,
   "id": "6f568e1d",
   "metadata": {},
   "outputs": [],
   "source": [
    "#GPT-3.5\n",
    "PD_1st_baseline = pd.read_csv('data/PrisonersDilemmaGame/PD-1st-GPT-3.5-turbo-baseline-Temp_default.csv')\n",
    "PD_1st_depression = pd.read_csv('data/PrisonersDilemmaGame/PD-1st-GPT-3.5-turbo-depression-Temp_default.csv')\n",
    "PD_1st_autism = pd.read_csv('data/PrisonersDilemmaGame/PD-1st-GPT-3.5-turbo-autism-Temp_default.csv')\n",
    "PD_1st_anxiety = pd.read_csv('data/PrisonersDilemmaGame/PD-1st-GPT-3.5-turbo-anxiety-Temp_default.csv')\n",
    "PD_1st_bipolar = pd.read_csv('data/PrisonersDilemmaGame/PD-1st-GPT-3.5-turbo-bipolar-Temp_default.csv')\n",
    "PD_1st_schizophrenia = pd.read_csv('data/PrisonersDilemmaGame/PD-1st-GPT-3.5-turbo-schizophrenia-Temp_default.csv')\n",
    "PD_1st_PTSD = pd.read_csv('data/PrisonersDilemmaGame/PD-1st-GPT-3.5-turbo-PTSD-Temp_default.csv')"
   ]
  },
  {
   "cell_type": "code",
   "execution_count": null,
   "id": "e6636246",
   "metadata": {},
   "outputs": [],
   "source": [
    "choices_PD_1st_baseline = get_choices(PD_1st_baseline)\n",
    "choices_PD_1st_depression = get_choices(PD_1st_depression)\n",
    "choices_PD_1st_autism = get_choices(PD_1st_autism)\n",
    "choices_PD_1st_anxiety = get_choices(PD_1st_anxiety)\n",
    "choices_PD_1st_bipolar = get_choices(PD_1st_bipolar)\n",
    "choices_PD_1st_schizophrenia = get_choices(PD_1st_schizophrenia)\n",
    "choices_PD_1st_PTSD = get_choices(PD_1st_PTSD)"
   ]
  },
  {
   "cell_type": "code",
   "execution_count": null,
   "id": "e54ae627",
   "metadata": {},
   "outputs": [],
   "source": []
  },
  {
   "cell_type": "code",
   "execution_count": null,
   "id": "6962da7a",
   "metadata": {},
   "outputs": [],
   "source": [
    "import re\n",
    "\n",
    "def extract_word_in_square_brackets(text):\n",
    "    pattern = r'\\[(.*?)\\]'\n",
    "    matches = re.findall(pattern, text)\n",
    "    return matches\n",
    "\n"
   ]
  },
  {
   "cell_type": "code",
   "execution_count": null,
   "id": "58f0107c",
   "metadata": {},
   "outputs": [],
   "source": [
    "def get_choices(dataF):\n",
    "    pull = []\n",
    "    push = []\n",
    "    for i in dataF['Responses']:\n",
    "        value  = extract_word_in_square_brackets(i)[0]\n",
    "        if value.upper()  == 'PUSH':\n",
    "            push.append (value)\n",
    "        elif value.upper() == 'PULL':\n",
    "            pull.append(value)\n",
    "\n",
    "    pull = f\"The number of pull is {len(pull)}\"\n",
    "    push = f\"The number of push is  {len(push)}\"\n",
    "    return pull, push"
   ]
  },
  {
   "cell_type": "code",
   "execution_count": null,
   "id": "5e85fae0",
   "metadata": {},
   "outputs": [],
   "source": [
    "#GPT-3.5\n",
    "PD_1st_baseline = pd.read_csv('data/PrisonersDilemmaGame/PD-1st-GPT-3.5-turbo-baseline-Temp_default.csv')\n",
    "PD_1st_depression = pd.read_csv('data/PrisonersDilemmaGame/PD-1st-GPT-3.5-turbo-depression-Temp_default.csv')\n",
    "\n",
    "#GPT-4\n",
    "PD_1st_baseline4 = pd.read_csv('data/PrisonersDilemmaGame/PD-1st-GPT-4-baseline-Temp_default.csv')\n",
    "PD_1st_depression4 = pd.read_csv('data/PrisonersDilemmaGame/PD-1st-GPT-4-depression-Temp_default.csv')\n"
   ]
  },
  {
   "cell_type": "code",
   "execution_count": null,
   "id": "a42932e8",
   "metadata": {
    "scrolled": true
   },
   "outputs": [],
   "source": [
    "choices_PD_1st_baseline = get_choices(PD_1st_baseline)\n",
    "choices_PD_1st_depression = get_choices(PD_1st_depression)\n",
    "choices_PD_1st_baseline4 = get_choices(PD_1st_baseline4)\n",
    "choices_PD_1st_depression4 = get_choices(PD_1st_depression4)"
   ]
  },
  {
   "cell_type": "code",
   "execution_count": null,
   "id": "7a421383",
   "metadata": {},
   "outputs": [],
   "source": [
    "choices_PD_1st_depression4"
   ]
  },
  {
   "cell_type": "code",
   "execution_count": null,
   "id": "b69b7d13",
   "metadata": {},
   "outputs": [],
   "source": [
    "len(choices_PD_1st_baseline)"
   ]
  },
  {
   "cell_type": "code",
   "execution_count": null,
   "id": "8f2d6faf",
   "metadata": {},
   "outputs": [],
   "source": []
  },
  {
   "cell_type": "markdown",
   "id": "017b3543",
   "metadata": {
    "jp-MarkdownHeadingCollapsed": true
   },
   "source": [
    "### BombRiskGame"
   ]
  },
  {
   "cell_type": "code",
   "execution_count": null,
   "id": "36165637",
   "metadata": {},
   "outputs": [],
   "source": [
    "Bomb_1st_baseline = pd.read_csv('data/BombRiskGame/BombRisk-1st-GPT-3.5-turbo-baseline-Temp_default.csv')\n",
    "Bomb_1st_depression = pd.read_csv('data/BombRiskGame/BombRisk-1st-GPT-3.5-turbo-depression-Temp_default.csv')\n",
    "Bomb_1st_autism = pd.read_csv('data/BombRiskGame/BombRisk-1st-GPT-3.5-turbo-autism-Temp_default.csv')\n",
    "Bomb_1st_anxiety = pd.read_csv('data/BombRiskGame/BombRisk-1st-GPT-3.5-turbo-anxiety-Temp_default.csv')\n",
    "Bomb_1st_bipolar = pd.read_csv('data/BombRiskGame/BombRisk-1st-GPT-3.5-turbo-bipolar-Temp_default.csv')\n",
    "Bomb_1st_schizophrenia = pd.read_csv('data/BombRiskGame/BombRisk-1st-GPT-3.5-turbo-schizophrenia-Temp_default.csv')\n",
    "Bomb_1st_PTSD = pd.read_csv('data/BombRiskGame/BombRisk-1st-GPT-3.5-turbo-PTSD-Temp_default.csv')"
   ]
  },
  {
   "cell_type": "code",
   "execution_count": null,
   "id": "fb473381",
   "metadata": {},
   "outputs": [],
   "source": []
  },
  {
   "cell_type": "code",
   "execution_count": null,
   "id": "f4a35832",
   "metadata": {},
   "outputs": [],
   "source": [
    "Bomb_1st_baseline = pd.read_csv('data/BombRiskGame/BombRisk-1st-GPT-3.5-turbo-baseline-Temp_default.csv')\n",
    "Bomb_1st_depression = pd.read_csv('data/BombRiskGame/BombRisk-1st-GPT-3.5-turbo-depression-Temp_default.csv')\n",
    "Bomb_1st_baseline4 = pd.read_csv('data/BombRiskGame/BombRisk-1st-GPT-4-baseline-Temp_default.csv')\n",
    "Bomb_1st_depression4 = pd.read_csv('data/BombRiskGame/BombRisk-1st-GPT-4-depression-Temp_default.csv')\n",
    "Bomb_1st_baselineg = pd.read_csv('data/BombRiskGame/BombRiskGame-Gemini-baseline-Temp_1.csv')\n",
    "Bomb_1st_depressiong = pd.read_csv('data/BombRiskGame/BombRiskGame-Gemini-depression-Temp_1.csv')"
   ]
  },
  {
   "cell_type": "code",
   "execution_count": null,
   "id": "98da3232",
   "metadata": {},
   "outputs": [],
   "source": [
    "import re\n",
    "\n",
    "def extract_integer(text):\n",
    "    # Define the regular expression pattern to match integers\n",
    "    pattern = r'\\b\\d+\\b'\n",
    "    \n",
    "    # Use the findall method to find all matches of the pattern in the text\n",
    "    integers = re.findall(pattern, text)\n",
    "    \n",
    "    # If integers are found, return the first one (you can modify this behavior as needed)\n",
    "    if integers:\n",
    "        return int(integers[0])\n",
    "    else:\n",
    "        return None"
   ]
  },
  {
   "cell_type": "code",
   "execution_count": null,
   "id": "3e57a266",
   "metadata": {},
   "outputs": [],
   "source": [
    "def get_choices(dataF):\n",
    "    value_list = []\n",
    "    for i in dataF['Responses']:\n",
    "        value  = extract_integer(i)\n",
    "        value_list.append(value)\n",
    "    return value_list"
   ]
  },
  {
   "cell_type": "code",
   "execution_count": null,
   "id": "c7eee114",
   "metadata": {},
   "outputs": [],
   "source": [
    "Bomb_1st_baseline = pd.read_csv('data/BombRiskGame/BombRisk-1st-GPT-3.5-turbo-baseline-Temp_default.csv')\n",
    "Bomb_1st_depression = pd.read_csv('data/BombRiskGame/BombRisk-1st-GPT-3.5-turbo-depression-Temp_default.csv')\n",
    "Bomb_1st_baseline4 = pd.read_csv('data/BombRiskGame/BombRisk-1st-GPT-4-baseline-Temp_default.csv')\n",
    "Bomb_1st_depression4 = pd.read_csv('data/BombRiskGame/BombRisk-1st-GPT-4-depression-Temp_default.csv')\n",
    "Bomb_1st_baseline_g = pd.read_csv('data/BombRiskGame/BombRiskGame-Gemini-baseline-Temp_1.csv')\n",
    "Bomb_1st_depression_g = pd.read_csv('data/BombRiskGame/BombRiskGame-Gemini-depression-Temp_1.csv')\n",
    "\n",
    "choices_Bomb_baseline = get_choices(Bomb_1st_baseline)\n",
    "choices_Bomb_depression = get_choices(Bomb_1st_depression)\n",
    "choices_Bomb_baseline4 = get_choices(Bomb_1st_baseline4)\n",
    "choices_Bomb_depression4 = get_choices(Bomb_1st_depression4)\n",
    "choices_Bomb_baseline_g = get_choices(Bomb_1st_baseline_g)\n",
    "choices_Bomb_depression_g = get_choices(Bomb_1st_depression_g)\n"
   ]
  },
  {
   "cell_type": "code",
   "execution_count": null,
   "id": "87b97d66",
   "metadata": {},
   "outputs": [],
   "source": [
    "meanStdError(choices_Bomb_baseline)"
   ]
  },
  {
   "cell_type": "code",
   "execution_count": null,
   "id": "fa31d6bb",
   "metadata": {},
   "outputs": [],
   "source": []
  },
  {
   "cell_type": "code",
   "execution_count": null,
   "id": "337ac3b9",
   "metadata": {},
   "outputs": [],
   "source": []
  },
  {
   "cell_type": "code",
   "execution_count": null,
   "id": "28ad267a",
   "metadata": {},
   "outputs": [],
   "source": []
  },
  {
   "cell_type": "markdown",
   "id": "feabd112",
   "metadata": {},
   "source": [
    "## GPT-4"
   ]
  },
  {
   "cell_type": "code",
   "execution_count": null,
   "id": "caf3ce85",
   "metadata": {},
   "outputs": [],
   "source": []
  },
  {
   "cell_type": "markdown",
   "id": "0382d2a9",
   "metadata": {
    "jp-MarkdownHeadingCollapsed": true
   },
   "source": [
    "### Dictator game"
   ]
  },
  {
   "cell_type": "code",
   "execution_count": null,
   "id": "a289de76",
   "metadata": {},
   "outputs": [],
   "source": [
    "df_baseline4 = pd.read_csv('data/DictatorGame/Dictator-GPT-4-baseline-Temp_default.csv')\n",
    "df_depression4= pd.read_csv('data/DictatorGame/Dictator-GPT-4-depression-Temp_default.csv')"
   ]
  },
  {
   "cell_type": "code",
   "execution_count": null,
   "id": "a499729d",
   "metadata": {},
   "outputs": [],
   "source": [
    "choices_baseline4 = get_choices(df_baseline4)\n",
    "choices_depression4 = get_choices(df_depression4)"
   ]
  },
  {
   "cell_type": "code",
   "execution_count": null,
   "id": "c1bfdbde",
   "metadata": {},
   "outputs": [],
   "source": [
    "meanStdError(choices_baseline4)"
   ]
  },
  {
   "cell_type": "code",
   "execution_count": null,
   "id": "6d69c86e",
   "metadata": {},
   "outputs": [],
   "source": []
  },
  {
   "cell_type": "markdown",
   "id": "1c82cc5b",
   "metadata": {
    "jp-MarkdownHeadingCollapsed": true
   },
   "source": [
    "#### Ultimatum Game"
   ]
  },
  {
   "cell_type": "code",
   "execution_count": null,
   "id": "2fc6d817",
   "metadata": {},
   "outputs": [],
   "source": [
    "df_UG_baseline_Proposer = pd.read_csv('data/UltimatumGame/UltimatumGame-GPT-4-baseline-Temp_default-Proposer.csv')\n",
    "df_UG_depression_Proposer = pd.read_csv('data/UltimatumGame/UltimatumGame-GPT-4-depression-Temp_default-Proposer.csv')\n",
    "\n",
    "\n",
    "df_UG_baseline_Responder = pd.read_csv('data/UltimatumGame/UltimatumGame-GPT-4-baseline-Temp_default-Responder.csv')\n",
    "df_UG_depression_Responder = pd.read_csv('data/UltimatumGame/UltimatumGame-GPT-4-depression-Temp_default-Responder.csv')"
   ]
  },
  {
   "cell_type": "code",
   "execution_count": null,
   "id": "17e7b854",
   "metadata": {},
   "outputs": [],
   "source": [
    "import re\n",
    "\n",
    "def extract_integer(input_string):\n",
    "    # Regular expression pattern to find integers\n",
    "    pattern = r'\\d+'\n",
    "\n",
    "    # Using regular expression to find integers in the string\n",
    "    result = re.findall(pattern, input_string)\n",
    "\n",
    "    # Converting the result to integer\n",
    "    if result:\n",
    "        return int(result[0])\n",
    "    else:\n",
    "        return None\n",
    "\n",
    "\n"
   ]
  },
  {
   "cell_type": "code",
   "execution_count": null,
   "id": "afe50e15",
   "metadata": {},
   "outputs": [],
   "source": [
    "def get_choices1(dataF):\n",
    "    value_list = []\n",
    "    for i in dataF['Responses']:\n",
    "        value  = extract_integers(i)\n",
    "        value_list.append(value)\n",
    "    choices = [item for sublist in value_list for item in sublist]\n",
    "    return choices"
   ]
  },
  {
   "cell_type": "code",
   "execution_count": null,
   "id": "57438ad6",
   "metadata": {},
   "outputs": [],
   "source": [
    "choices_UG_baseline_Proposer = get_choices1(df_UG_baseline_Proposer)\n",
    "# choices_UG_depression_Proposer = get_choices(df_UG_depression_Proposer)\n",
    "\n",
    "\n",
    "# choices_UG_baseline_Responder = get_choices(df_UG_baseline_Responder)\n",
    "# choices_UG_depression_Responder = get_choices(df_UG_depression_Responder)\n"
   ]
  },
  {
   "cell_type": "code",
   "execution_count": null,
   "id": "45967e4f",
   "metadata": {},
   "outputs": [],
   "source": [
    "choices_UG_baseline_Responder"
   ]
  },
  {
   "cell_type": "code",
   "execution_count": null,
   "id": "d4b0e661",
   "metadata": {},
   "outputs": [],
   "source": []
  },
  {
   "cell_type": "code",
   "execution_count": null,
   "id": "5133d07b",
   "metadata": {},
   "outputs": [],
   "source": []
  },
  {
   "cell_type": "code",
   "execution_count": null,
   "id": "28d9a36e",
   "metadata": {},
   "outputs": [],
   "source": [
    "df_UG_baseline_Proposer = choices_to_df(choices_UG_baseline_Proposer , hue=str('GPT-3.5-UG-default-Proposer'))\n",
    "df_UG_depression_Proposer = choices_to_df(choices_UG_depression_Proposer , hue=str('GPT-3.5-UG-depression-Proposer'))\n",
    "\n",
    "df_UG_baseline_Responder = choices_to_df(choices_UG_baseline_Responder , hue=str('GPT-3.5-UG-baseline_Responder'))\n",
    "df_UG_depression_Responder = choices_to_df(choices_UG_depression_Responder , hue=str('GPT-3.5-UG-depression_Responder'))\n"
   ]
  },
  {
   "cell_type": "code",
   "execution_count": null,
   "id": "301f9bbc",
   "metadata": {},
   "outputs": [],
   "source": []
  },
  {
   "cell_type": "code",
   "execution_count": null,
   "id": "7d8536ca",
   "metadata": {},
   "outputs": [],
   "source": []
  },
  {
   "cell_type": "markdown",
   "id": "03484db5",
   "metadata": {},
   "source": [
    "### Trust"
   ]
  },
  {
   "cell_type": "code",
   "execution_count": null,
   "id": "8800c648",
   "metadata": {},
   "outputs": [],
   "source": [
    "#GPT-4 - \n",
    "#banker-10\n",
    "trust10_banker_baseline = pd.read_csv('data/TrustGame/Trust10-Banker-GPT-4-baseline-Temp_default.csv')\n",
    "trust10_banker_depression = pd.read_csv('data/TrustGame/Trust10-Banker-GPT-4-depression-Temp_default.csv')\n",
    "#banker-50\n",
    "trust50_banker_baseline = pd.read_csv('data/TrustGame/Trust50-Banker-GPT-4-baseline-Temp_default.csv')\n",
    "trust50_banker_depression = pd.read_csv('data/TrustGame/Trust50-Banker-GPT-4-depression-Temp_default.csv')\n",
    "#banker-100\n",
    "trust100_banker_baseline = pd.read_csv('data/TrustGame/Trust100-Banker-GPT-4-baseline-Temp_default.csv')\n",
    "trust100_banker_depression = pd.read_csv('data/TrustGame/Trust100-Banker-GPT-4-depression-Temp_default.csv')\n",
    "#Investor\n",
    "trust_investor_baseline = pd.read_csv('data/TrustGame/Trust-Investor-GPT-4-baseline-Temp_default.csv')\n",
    "trust_investor_depression = pd.read_csv('data/TrustGame/Trust-Investor-GPT-4-depression-Temp_default.csv')"
   ]
  },
  {
   "cell_type": "code",
   "execution_count": null,
   "id": "259ef336",
   "metadata": {},
   "outputs": [],
   "source": [
    "choices_trust10_banker_baseline = get_choices(trus10_banker_baseline)\n",
    "choices_trust10_banker_depression = get_choices(trust10_banker_depression)\n",
    "\n",
    "choices_trust50_banker_baseline = get_choices(trust50_banker_baseline)\n",
    "choices_trust50_banker_depression = get_choices(trust50_banker_depression)\n",
    "\n",
    "choices_trust100_banker_baseline = get_choices(trust100_banker_baseline)\n",
    "choices_trust100_banker_depression = get_choices(trust100_banker_depression)\n",
    "\n",
    "choices_trust_investor_baseline = get_choices(trust_investor_baseline)\n",
    "choices_trust_investor_depression = get_choices(trust_investor_depression)"
   ]
  },
  {
   "cell_type": "code",
   "execution_count": null,
   "id": "ad338d60",
   "metadata": {},
   "outputs": [],
   "source": [
    "meanStdError(choices_trust_investor_depression)\n"
   ]
  },
  {
   "cell_type": "code",
   "execution_count": null,
   "id": "a4c2e267",
   "metadata": {},
   "outputs": [],
   "source": []
  },
  {
   "cell_type": "code",
   "execution_count": null,
   "id": "f2a6d1fd",
   "metadata": {},
   "outputs": [],
   "source": []
  },
  {
   "cell_type": "markdown",
   "id": "96d71a63",
   "metadata": {},
   "source": [
    "## Gemini-pro"
   ]
  },
  {
   "cell_type": "code",
   "execution_count": null,
   "id": "8109f681",
   "metadata": {},
   "outputs": [],
   "source": []
  },
  {
   "cell_type": "markdown",
   "id": "fc7c2169",
   "metadata": {
    "jp-MarkdownHeadingCollapsed": true
   },
   "source": [
    "### Dictator Game"
   ]
  },
  {
   "cell_type": "code",
   "execution_count": null,
   "id": "10d77fcd",
   "metadata": {},
   "outputs": [],
   "source": [
    "df_baseline_gemini = pd.read_csv('data/DictatorGame/Dictator-GeminiPro-baseline-Temp_1.csv')\n",
    "df_depression_gemini = pd.read_csv('data/DictatorGame/Dictator-GeminiPro-depression-Temp_1.csv')"
   ]
  },
  {
   "cell_type": "code",
   "execution_count": null,
   "id": "c4721199",
   "metadata": {},
   "outputs": [],
   "source": [
    "choices_baseline_g = [100,100,100,100,100,100,100,100,100,100,100,100,100,100,100,100,100,100,100,100,100,100,100,100,100,100,100,100,0,0]\n",
    "choices_depression_g = [50,50,50,50,50,50,50,50,50,50,50,50,50,50,50,50,50,50,50,50,50,50,50,50,50,50,50,50,50,50]"
   ]
  },
  {
   "cell_type": "code",
   "execution_count": null,
   "id": "ff124809",
   "metadata": {},
   "outputs": [],
   "source": [
    "meanStdError(choices_depression_g)"
   ]
  },
  {
   "cell_type": "code",
   "execution_count": null,
   "id": "8347e2c7",
   "metadata": {},
   "outputs": [],
   "source": []
  },
  {
   "cell_type": "code",
   "execution_count": null,
   "id": "2dcee8ee",
   "metadata": {},
   "outputs": [],
   "source": []
  },
  {
   "cell_type": "markdown",
   "id": "c54763ed",
   "metadata": {
    "jp-MarkdownHeadingCollapsed": true
   },
   "source": [
    "### Ultimatum Game"
   ]
  },
  {
   "cell_type": "code",
   "execution_count": null,
   "id": "3bd81a31",
   "metadata": {},
   "outputs": [],
   "source": [
    "import re\n",
    "\n",
    "def extract_integer(text):\n",
    "    pattern = r'\\[\\$(\\d+)\\]'\n",
    "    match = re.search(pattern, text)\n",
    "    if match:\n",
    "        return int(match.group(1))\n",
    "    else:\n",
    "        return None\n"
   ]
  },
  {
   "cell_type": "code",
   "execution_count": null,
   "id": "def5d231",
   "metadata": {},
   "outputs": [],
   "source": [
    "def get_choices(dataF):\n",
    "    value_list = []\n",
    "    for i in dataF['Responses']:\n",
    "        value  = extract_integer(i)\n",
    "        value_list.append(value)\n",
    "    # choices = [item for sublist in value_list for item in sublist]\n",
    "    return value_list"
   ]
  },
  {
   "cell_type": "code",
   "execution_count": null,
   "id": "06a5f8e8",
   "metadata": {},
   "outputs": [],
   "source": [
    "df_UG_baseline_Proposer = pd.read_csv('data/UltimatumGame/UltimatumGame-Gemini-baseline-Temp_1-Proposer.csv')\n",
    "df_UG_depression_Proposer = pd.read_csv('data/UltimatumGame/UltimatumGame-Gemini-depression-Temp_1-Proposer.csv')\n",
    "\n",
    "df_UG_baseline_Responder = pd.read_csv('data/UltimatumGame/UltimatumGame-Gemini-baseline-Temp_1-Responder.csv')\n",
    "df_UG_depression_Responder = pd.read_csv('data/UltimatumGame/UltimatumGame-Gemini-depression-Temp_1-Responder.csv')"
   ]
  },
  {
   "cell_type": "code",
   "execution_count": null,
   "id": "4fb51436",
   "metadata": {},
   "outputs": [],
   "source": [
    "choices_UG_baseline_Proposer = get_choices(df_UG_baseline_Proposer)\n",
    "choices_UG_depression_Proposer = get_choices(df_UG_depression_Proposer)\n",
    "\n",
    "\n",
    "choices_UG_baseline_Responder = get_choices(df_UG_baseline_Responder)\n",
    "choices_UG_depression_Responder = get_choices(df_UG_depression_Responder)"
   ]
  },
  {
   "cell_type": "code",
   "execution_count": null,
   "id": "4163e5a2",
   "metadata": {},
   "outputs": [],
   "source": [
    "choices_UG_depression_Responder"
   ]
  },
  {
   "cell_type": "code",
   "execution_count": null,
   "id": "5e9acb76",
   "metadata": {},
   "outputs": [],
   "source": [
    "# meanStdError(choices_UG_baseline_Proposer )\n",
    "meanStdError(choices_UG_depression_Proposer)\n",
    "\n",
    "# choices_UG_baseline_Responder \n",
    "# choices_UG_depression_Responder "
   ]
  },
  {
   "cell_type": "code",
   "execution_count": null,
   "id": "62740e93",
   "metadata": {},
   "outputs": [],
   "source": []
  },
  {
   "cell_type": "markdown",
   "id": "5fff2b72",
   "metadata": {
    "jp-MarkdownHeadingCollapsed": true
   },
   "source": [
    "### Trust Game - Gemini"
   ]
  },
  {
   "cell_type": "code",
   "execution_count": null,
   "id": "581edbe2",
   "metadata": {},
   "outputs": [],
   "source": [
    "import re\n",
    "\n",
    "def extract_integer(text):\n",
    "    pattern = r'\\[\\$(\\d+)\\]'\n",
    "    match = re.search(pattern, text)\n",
    "    if match:\n",
    "        return int(match.group(1))\n",
    "    else:\n",
    "        return None"
   ]
  },
  {
   "cell_type": "code",
   "execution_count": null,
   "id": "cc6eb2c9",
   "metadata": {},
   "outputs": [],
   "source": [
    "def get_choices(dataF):\n",
    "    value_list = []\n",
    "    for i in dataF['Responses']:\n",
    "        value  = extract_integer(i)\n",
    "        value_list.append(value)\n",
    "    # choices = [item for sublist in value_list for item in sublist]\n",
    "    return value_list"
   ]
  },
  {
   "cell_type": "code",
   "execution_count": null,
   "id": "29167aa5",
   "metadata": {},
   "outputs": [],
   "source": [
    "#Gemini - \n",
    "#banker-10\n",
    "trust10_banker_baseline = pd.read_csv('data/TrustGame/Trust10-Gemini-baseline-Temp_1.csv')\n",
    "trust10_banker_depression = pd.read_csv('data/TrustGame/Trust10-Gemini-depression-Temp_1.csv')\n",
    "#banker-50\n",
    "trust50_banker_baseline = pd.read_csv('data/TrustGame/Trust50-Gemini-baseline-Temp_1.csv')\n",
    "trust50_banker_depression = pd.read_csv('data/TrustGame/Trust50-Gemini-depression-Temp_1.csv')\n",
    "#banker-100\n",
    "trust100_banker_baseline = pd.read_csv('data/TrustGame/Trust100-Gemini-baseline-Temp_1.csv')\n",
    "trust100_banker_depression = pd.read_csv('data/TrustGame/Trust100-Gemini-depression-Temp_1.csv')\n",
    "#Investor\n",
    "trust_investor_baseline = pd.read_csv('data/TrustGame/Trust_investor-Gemini-baseline-Temp_1.csv')\n",
    "trust_investor_depression = pd.read_csv('data/TrustGame/Trust_investor-Gemini-depression-Temp_1.csv')"
   ]
  },
  {
   "cell_type": "code",
   "execution_count": null,
   "id": "5bd10d8c",
   "metadata": {},
   "outputs": [],
   "source": [
    "#banker-10\n",
    "choices_trust10_banker_baseline = get_choices (trust10_banker_baseline)\n",
    "choices_trust10_banker_depression = get_choices (trust10_banker_depression)\n",
    "#banker-50\n",
    "choices_trust50_banker_baseline = get_choices (trust50_banker_baseline)\n",
    "choices_trust50_banker_depression = get_choices (trust50_banker_depression)\n",
    "#banker-100\n",
    "choices_trust100_banker_baseline = get_choices (trust100_banker_baseline)\n",
    "choices_trust100_banker_depression = get_choices (trust100_banker_depression)\n",
    "#Investor\n",
    "choices_trust_investor_baseline = get_choices (trust_investor_baseline)\n",
    "choices_trust_investor_depression = get_choices (trust_investor_depression)"
   ]
  },
  {
   "cell_type": "code",
   "execution_count": null,
   "id": "0be2eabd",
   "metadata": {},
   "outputs": [],
   "source": [
    "meanStdError(choices_trust_investor_depression)"
   ]
  },
  {
   "cell_type": "code",
   "execution_count": null,
   "id": "a11f3f91",
   "metadata": {},
   "outputs": [],
   "source": [
    "choices_trust_investor_depression"
   ]
  },
  {
   "cell_type": "code",
   "execution_count": null,
   "id": "4233503b",
   "metadata": {},
   "outputs": [],
   "source": []
  },
  {
   "cell_type": "code",
   "execution_count": null,
   "id": "00d7135c",
   "metadata": {},
   "outputs": [],
   "source": []
  },
  {
   "cell_type": "code",
   "execution_count": null,
   "id": "ec050850",
   "metadata": {},
   "outputs": [],
   "source": [
    "# meanStdError(choices_UG_baseline_Proposer )\n",
    "meanStdError(choices_UG_depression_Proposer)\n",
    "\n",
    "# choices_UG_baseline_Responder \n",
    "# choices_UG_depression_Responder "
   ]
  },
  {
   "cell_type": "code",
   "execution_count": null,
   "id": "489979ff",
   "metadata": {},
   "outputs": [],
   "source": []
  },
  {
   "cell_type": "code",
   "execution_count": null,
   "id": "e09cef5e",
   "metadata": {},
   "outputs": [],
   "source": []
  },
  {
   "cell_type": "markdown",
   "id": "859f41b3",
   "metadata": {},
   "source": [
    "### Density"
   ]
  },
  {
   "cell_type": "code",
   "execution_count": null,
   "id": "296d39f3",
   "metadata": {},
   "outputs": [],
   "source": [
    "import matplotlib.pyplot as plt\n",
    "import seaborn as sns\n",
    "\n",
    "# Given list\n",
    "data = [2, 3, 2, 2, 1, 65, 3, 3, 3]\n",
    "\n",
    "# Plot density using Seaborn\n",
    "sns.kdeplot(data, shade=True)\n",
    "plt.title('Density Plot')\n",
    "plt.xlabel('Values')\n",
    "plt.ylabel('Density')\n",
    "plt.show()\n"
   ]
  },
  {
   "cell_type": "code",
   "execution_count": null,
   "id": "f54611e5",
   "metadata": {},
   "outputs": [],
   "source": [
    "import matplotlib.pyplot as plt\n",
    "\n",
    "# Given list\n",
    "data = [2, 3, 2, 2, 1, 65, 3, 3, 3]\n",
    "\n",
    "# Plot histogram\n",
    "plt.hist(data, bins=5, edgecolor='black')\n",
    "plt.title('Histogram')\n",
    "plt.xlabel('Values')\n",
    "plt.ylabel('Density')\n",
    "plt.grid(True)\n",
    "plt.show()\n",
    "\n"
   ]
  },
  {
   "cell_type": "markdown",
   "id": "d4720d8c",
   "metadata": {},
   "source": [
    "### List of data"
   ]
  },
  {
   "cell_type": "code",
   "execution_count": null,
   "id": "c144787c",
   "metadata": {},
   "outputs": [],
   "source": [
    "import matplotlib.pyplot as plt"
   ]
  },
  {
   "cell_type": "code",
   "execution_count": null,
   "id": "8c02267d",
   "metadata": {},
   "outputs": [],
   "source": [
    "#Dictator\n",
    "Dictator_GPT3_Baseline = [80,80,20,10,90,10,70,90,20,30,80,40,20,25,40,90,70,70,80,10,70,30,70,80,80,70,20,80,70,20,70,70,30,20,70,90,70,80,90,70,80,70,10,70,80,80,20,80,70,80]\n",
    "Dictator_GPT3_Depression = [0,0,10,10,0,0,0,80,90,10,10,70,10,0,10,0,0,0,10,0,0,50,10,0,10,80,0,0,0,10,0,0,90,20,0,10,0,0,10,0,0,90,90,90,50,10,0,10,80,10]\n",
    "Dictator_GPT4_Baseline = [50,50,50,50,50,50,50,50,50,40,50,50,50,50,50,50,50,50,50,50,50,50,50,50,50,50,50,50,50,50,60,50,50,50,60,50,30,50,60,50,50,50,50,50,50,50,50,50,50,50]\n",
    "Dictator_GPT4_Depression = [100,100,100,100,100,100,100,50,80,100,100,100,100,0,100,100,100,100,100,100,100,70,100,100,100,80,100,100,100,100,100,100,70,100,100,100,100,100,100,100,100,50,100,100,100,100,100,100,70,90]\n",
    "Dictator_Gemini_Baseline = [50,50,50,50,50,50,50,50,50,50,50,50,50,50,50,50,50,50,50,50,50,50,50,50,50,50,50,50,50,50]\n",
    "Dictator_Gemini_Depression = [100,100,100,100,100,100,100,100,100,100,100,100,100,100,100,100,100,100,100,100,100,100,100,100,100,100,100,100,0,0]"
   ]
  },
  {
   "cell_type": "code",
   "execution_count": null,
   "id": "972b8f3f",
   "metadata": {},
   "outputs": [],
   "source": [
    "# names = ['Dictator - GPT3.5 - Baseline',\n",
    "#         'Dictator - GPT3.5 - Depression',\n",
    "#         'Dictator - GPT4 - Baseline',\n",
    "#         'Dictator - GPT4 - Depression',\n",
    "#         'Dictator - Gemini - Baseline',\n",
    "#         'Dictator - Gemini - Depression',]\n",
    "\n",
    "# count = [ Dictator_GPT3_Baseline, \n",
    "#           Dictator_GPT3_Depression, \n",
    "#           Dictator_GPT4_Baseline, \n",
    "#           Dictator_GPT4_Depression, \n",
    "#           Dictator_Gemini_Baseline, \n",
    "#           Dictator_Gemini_Depression ]"
   ]
  },
  {
   "cell_type": "code",
   "execution_count": null,
   "id": "6bb84bef",
   "metadata": {},
   "outputs": [],
   "source": [
    "# names = ['Dictator - GPT3.5 - Baseline',\n",
    "#         'Dictator - GPT4 - Baseline',\n",
    "#         'Dictator - Gemini - Baseline',]\n",
    "\n",
    "# count = [ Dictator_GPT3_Baseline, \n",
    "#           Dictator_GPT4_Baseline, \n",
    "#           Dictator_Gemini_Baseline  ]\n",
    "\n",
    "names = ['Dictator - GPT3.5 - Depression',\n",
    "        'Dictator - GPT4 - Depression',\n",
    "        'Dictator - Gemini - Depression',]\n",
    "\n",
    "count = [Dictator_GPT3_Depression, \n",
    "          Dictator_GPT4_Depression, \n",
    "          Dictator_Gemini_Depression ]\n",
    "\n",
    "\n",
    "for i in range(3):\n",
    "    a = count[i]\n",
    "    plt.hist(a, bins=10, edgecolor='black', color='red')\n",
    "    plt.title(names[i], fontsize=24)  # Change font size of title\n",
    "    plt.xlabel('Split offer ($)', fontsize=20)  # Change font size of x-axis label\n",
    "    plt.ylabel('Frequency', fontsize=20)  # Change font size of y-axis label\n",
    "    plt.savefig(f'figures/count/{names[i]}_count.pdf', format='pdf')\n",
    "    plt.savefig(f'figures/count/{names[i]}_count.png', dpi=500)  # Save as PNG with 300 dpi resolution\n",
    "    plt.clf()"
   ]
  },
  {
   "cell_type": "code",
   "execution_count": null,
   "id": "36f0b2fb",
   "metadata": {},
   "outputs": [],
   "source": []
  },
  {
   "cell_type": "code",
   "execution_count": null,
   "id": "42c81cee",
   "metadata": {},
   "outputs": [],
   "source": [
    "# Plot histogram\n",
    "plt.hist(Dictator_GPT3_Baseline, bins=10, edgecolor='black')\n",
    "plt.title('Trust Game (100-Banker) - GPT-3.5 - Depression ')\n",
    "plt.xlabel('Split offer ($)')\n",
    "plt.ylabel('Frequency')\n",
    "plt.grid(False)\n",
    "plt.savefig('figures/Count/dictator-baseline-GPT-3.5.pdf', format='pdf')\n",
    "plt.show()"
   ]
  },
  {
   "cell_type": "code",
   "execution_count": null,
   "id": "2e5c5b61",
   "metadata": {},
   "outputs": [],
   "source": [
    "#Ultimatum game\n",
    "UG_GPT3_baseline_proposer    = [40,40,40,30,30,40,40,40,40,30,40,30,40,40,40,40,40,30,40,40,30,40,30,30,40,40,30,40,30,30,40,30,40,30,40,40,30,30,40,30,40,40,40,40,40,40,70,40,40,40]\n",
    "UG_GPT3_depression_proposer  = [10,20,10,10,10,10,10,10,10,10,10,10,10,20,10,10,10,20,10,10,5,20,10,10,10,20,10,10,10,5,10,10,10,10,80,30,0,0,10,0,10,20,10,10,20,30,10,20,10,0]\n",
    "UG_GPT3_baseline_responder   = [1,1,1,20,1,1,1,10,1,1,10,1,1,30,1,1,1,1,1,1,1,1,1,1,1,1,1,1,1,1,1,1,1,1,1,1,1,1,1,40,1,1,1,1,1,1,1,1,1,1]\n",
    "UG_GPT3_depression_responder = [10,1,30,30,30,30,20,10,30,10,30,1,40,20,35,30,30,30,20,20,1,20,25,30,30,30,20,40,40,10,20,20,20,25,30,40,10,20,30,30,10,20,30,30,30,30,1,20,30,30]\n",
    "\n",
    "UG_GPT4_baseline_proposer    = [50,50,50,50,50,50,50,50,50,50,50,50,50,50,50,50,50,50,50,50,50,50,50,50,50,50,50,50,50,50]\n",
    "UG_GPT4_depression_proposer  = [20,50,50,80,30,50,50,70,50,60,50,50,50,70,50,70,50,10,70,80,40,60,50,80,50,50,50,0,70,50]\n",
    "UG_GPT4_baseline_responder   = [1,1,1,1,1,1,1,1,1,1,1,1,1,1,1,1,1,1,1,1,1,1,1,1,1,1,1,1,1,1]\n",
    "UG_GPT4_depression_responder = [0,0,0,0,0,1,0,0,1,0,0,1,0,0,1,0,0,0,0,1,0,0,0,0,0,0,0,1,0,0]\n",
    "\n",
    "UG_Gemini_baseline_proposer    = [1,1,1,1,10,1,1,10,1,1,1,1,10,1,1,1,1,1,1,10,1,1,1,1,1,1,1,1,10,1]\n",
    "UG_Gemini_depression_proposer  = [100,0,100,0,100,100,100,0,100,99,100,100,100,100,100,100,0,100,10,100,100,100,0,100,50,0,100,100,100,100]\n",
    "UG_Gemini_baseline_responder   = [50,1,1,1,1,50,1,1,1,1,1,1,0,1,50,1,50,1,50,1,1,1,50,1,50,1,1,1,1,1]\n",
    "UG_Gemini_depression_responder = [0,1,0,1,1,1,1,1,1,1,0,1,1,0,0,1,0,0,0,0,0,1,0,0,1,0,0,1,0,0]"
   ]
  },
  {
   "cell_type": "code",
   "execution_count": null,
   "id": "53186c93",
   "metadata": {},
   "outputs": [],
   "source": [
    "names = ['Ultimatum Game - GPT3.5 - Baseline - Proposer' ,\n",
    "         'Ultimatum Game - GPT3.5 - Depression - Proposer'  ,\n",
    "         'Ultimatum Game - GPT3.5 - Baseline - Responder',\n",
    "        'Ultimatum Game - GPT3.5 - Depression - Responder',\n",
    "         'Ultimatum Game - GPT4 - Baseline - Proposer',\n",
    "         'Ultimatum Game - GPT4 - Depression - Proposer',\n",
    "        'Ultimatum Game - GPT4 - Baseline - Responder',\n",
    "         'Ultimatum Game - GPT4 - Depression - Responder',\n",
    "         'Ultimatum Game - Gemini - Baseline - Proposer',\n",
    "        'Ultimatum Game - Gemini - Depression - Proposer',\n",
    "         'Ultimatum Game - Gemini - Baseline - Responder',\n",
    "         'Ultimatum Game - Gemini - Depression - Responder']\n",
    "count = [UG_GPT3_baseline_proposer ,\n",
    "         UG_GPT3_depression_proposer ,\n",
    "         UG_GPT3_baseline_responder ,\n",
    "         UG_GPT3_depression_responder ,\n",
    "         UG_GPT4_baseline_proposer ,\n",
    "         UG_GPT4_depression_proposer  ,\n",
    "         UG_GPT4_baseline_responder   ,\n",
    "         UG_GPT4_depression_responder  ,\n",
    "         UG_Gemini_baseline_proposer ,\n",
    "         UG_Gemini_depression_proposer ,\n",
    "         UG_Gemini_baseline_responder ,\n",
    "         UG_Gemini_depression_responder ]"
   ]
  },
  {
   "cell_type": "code",
   "execution_count": null,
   "id": "ebf08bf8",
   "metadata": {},
   "outputs": [],
   "source": [
    "names = ['Ultimatum Game - GPT3.5 - Depression - Proposer'  ,\n",
    "        'Ultimatum Game - GPT3.5 - Depression - Responder',\n",
    "         'Ultimatum Game - GPT4 - Depression - Proposer',\n",
    "         'Ultimatum Game - GPT4 - Depression - Responder',\n",
    "        'Ultimatum Game - Gemini - Depression - Proposer',\n",
    "         'Ultimatum Game - Gemini - Depression - Responder']\n",
    "count = [UG_GPT3_depression_proposer ,\n",
    "         UG_GPT3_depression_responder ,\n",
    "         UG_GPT4_depression_proposer  , \n",
    "         UG_GPT4_depression_responder  ,\n",
    "         UG_Gemini_depression_proposer ,\n",
    "         UG_Gemini_depression_responder ]\n",
    "\n",
    "fig = plt.figure(figsize=(9, 6))\n",
    "for i in range(6):\n",
    "    a = count[i]\n",
    "    plt.hist(a, bins=10,  edgecolor='black', color='red')\n",
    "    plt.title(names[i],fontsize=24)\n",
    "    plt.xlabel ('Split offer ($)',fontsize=20)\n",
    "    plt.ylabel ('Frequency',fontsize=20)\n",
    "    plt.savefig(f'figures/count/{names[i]}_count.pdf', format='pdf')\n",
    "    plt.savefig(f'figures/count/{names[i]}_count.png', dpi=500)  # Save as PNG with 300 dpi resolution\n",
    "    plt.clf()"
   ]
  },
  {
   "cell_type": "code",
   "execution_count": null,
   "id": "e521db07",
   "metadata": {},
   "outputs": [],
   "source": [
    "#Trust \n",
    "Trust10_GPT3_baseline = [20,20,20,20,15,20,20,20,20,15,20,20,20,20,20,20,20,20,20,10,20,20,20,20,20,20,20,20,20,20,20,20,15,20,20,20,20,20,20,20,20,20,20,20,20,25,20,15,20,20]\n",
    "Trust10_GPT3_depression = [10,5,20,5,20,20,10,10,5,0,15,20,20,10,10,20,10,15,20,15,15,15,5,5,5,5,10,0,10,10,15,20,0,15,15,10,5,10,20,0,5,10,0,20,0,0,0,20,10,15]\n",
    "Trust50_GPT3_baseline = [100,100,100,100,100,100,100,100,100,100,100,100,100,100,100,100,100,100,100,100,100,100,100,100,100,100,100,100,100,100,100,100,100,100,100,100,100,100,100,100,100,100,100,100,100,100,120,100,100,100]\n",
    "Trust50_GPT3_depression = [50,50,0,100,50,30,0,0,75,0,50,50,0,50,50,50,0,100,50,0,75,75,0,0,100,0,50,0,50,50,50,50,0,0,50,0,75,100,0,50,0,50,0,100,50,0,50,0,50,0]\n",
    "Trust100_GPT3_baseline = [150,200,200,200,200,200,200,200,200,200,200,200,200,250,250,200,200,200,200,200,200,200,200,200,200,200,200,200,200,150,200,200,200,200,200,150,200,200,200,200,200,200,200,200,150,150,150,200,200,150]\n",
    "Trust100_GPT3_depression = [100,0,0,100,0,0,0,0,100,100,0,0,50,0,50,200,100,50,0,0,50,0,0,0,0,150,0,150,50,100,100,50,0,150,0,100,100,0,150,150,100,100,100,150,150,100,150,200,100,100]\n",
    "Trust_investor_GPT3_baseline = [50,30,20,30,20,20,40,30,20,50,50,50,50,30,20,20,50,30,50,30,30,50,50,40,20,30,50,50,50,20,50,50,50,40,50,50,50,50,50,50,50,20,30,40,50,50,50,50,30,30]\n",
    "Trust_investor_GPT3_depression = [30,20,20,50,50,50,50,20,20,20,50,20,30,50,50,50,50,50,30,20,20,50,50,50,20,20,30,20,20,20,50,50,20,50,50,20,50,50,50,30,50,20,50,20,50,20,50,50,20,30]\n",
    "\n",
    "Trust10_GPT4_baseline = [20,20,20,20,15,20,20,20,20,15,20,20,20,20,20,20,20,20,20,10,20,20,20,20,20,20,20,20,20,20]\n",
    "Trust10_GPT4_depression = [15,15,15,15,15,15,15,15,15,15,15,15,20,15,15,15,15,15,15,15,15,15,15,15,15,15,15,15,20,15]\n",
    "Trust50_GPT4_baseline = [100,100,100,100,100,100,100,100,100,100,100,100,100,100,100,100,100,100,100,100,75,100,75,75,75,100,100,100,75,100]\n",
    "Trust50_GPT4_depression = [100,100,75,100,75,75,100,75,75,75,75,100,75,75,75,75,50,75,75,75,75,75,100,75,100,75,75,75,75,75]\n",
    "Trust100_GPT4_baseline = [150,150,150,150,150,150,150,150,150,150,150,150,200,200,150,150,150,150,200,200,150,150,150,150,200,150,150,150,150,150]\n",
    "Trust100_GPT4_depression = [150,150,150,100,150,150,150,150,150,150,150,150,150,150,150,150,150,200,150,150,150,150,150,150,150,150,150,150,100,150]\n",
    "Trust_investor_GPT4_baseline = [100,100,100,100,100,100,100,100,100,100,100,100,100,100,100,50,100,100,100,100,100,100,100,100,100,100,100,100,100,100]\n",
    "Trust_investor_GPT4_depression = [20,100,0,10,20,20,20,20,0,50,100,0,20,20,20,50,0,20,60,50,100,20,100,50,20,20,50,50,50,20]\n",
    "\n",
    "Trust10_Gemini_baseline = [15,15,15,15,15,15,30,15,25,25,15,15,15,15,20,15,15,15,15,15,15,15,25,15,25,30,15,20,20,15]\n",
    "Trust10_Gemini_depression = [30,0,30,0,0,5,30,0,0,0,0,0,0,0,0,0,30,0,0,0,0,0,0,30,0,0,0,0,0,0]\n",
    "Trust50_Gemini_baseline = [75,75,75,75,75,75,75,75,75,75,75,100,75,100,75,75,75,75,75,75,75,75,75,100,75,75,75,75,75,75]\n",
    "Trust50_Gemini_depression = [0,0,50,150,0,150,0,0,150,0,150,0,0,0,150,0,50,0,150,0,50,0,0,0,150,0,150,50,0,0]\n",
    "Trust100_Gemini_baseline = [200,150,150,200,200,200,200,200,250,200,200,200,0,150,150,200,200,150,150,200,200,200,150,200,200,150,200,200,200,200]\n",
    "Trust100_Gemini_depression = [150,50,0,0,0,150,150,50,150,150,0,200,150,0,0,0,100,0,300,150,50,0,150,150,50,0,0,50,150,100]\n",
    "Trust_investor_Gemini_baseline = [1,99,1,99,1,99,99,99,99,99,99,99,99,99,99,99,99,1,99,99,1,99,99,99,1,99,1,99,99,1]\n",
    "Trust_investor_Gemini_depression = [1,100,1,0,10,1,10,1,10,1,5,0,1,1,1,1,100,10,10,1,0,1,10,1,100,10,10,1,1,10]"
   ]
  },
  {
   "cell_type": "code",
   "execution_count": null,
   "id": "7d00e9c9",
   "metadata": {},
   "outputs": [],
   "source": [
    "names = ['Trust Game (10-Banker) - GPT-3.5 - Baseline ', \n",
    "        'Trust Game (10-Banker) - GPT-3.5 - Depression ',\n",
    "        'Trust Game (50-Banker) - GPT-3.5 - Baseline ',\n",
    "        'Trust Game (50-Banker) - GPT-3.5 - Depression ',\n",
    "        'Trust Game (100-Banker) - GPT-3.5 - Baseline ',\n",
    "        'Trust Game (100-Banker) - GPT-3.5 - Depression ',\n",
    "        'Trust Game (Investor) - GPT-3.5 - Baseline ',\n",
    "        'Trust Game (Investor) - GPT-3.5 - Depression ']\n",
    "\n",
    "count = [Trust10_GPT3_baseline ,\n",
    "    Trust10_GPT3_depression ,\n",
    "    Trust50_GPT3_baseline ,\n",
    "    Trust50_GPT3_depression,\n",
    "    Trust100_GPT3_baseline ,\n",
    "    Trust100_GPT3_depression ,\n",
    "    Trust_investor_GPT3_baseline ,\n",
    "    Trust_investor_GPT3_depression]"
   ]
  },
  {
   "cell_type": "code",
   "execution_count": null,
   "id": "fb436c68",
   "metadata": {},
   "outputs": [],
   "source": []
  },
  {
   "cell_type": "code",
   "execution_count": null,
   "id": "3d013c59",
   "metadata": {},
   "outputs": [],
   "source": [
    "names = ['Trust Game (100-Banker) - GPT-3.5 - Baseline ',\n",
    "         'Trust Game (100-Banker) - GPT-3.5 - Depression ',\n",
    "         'Trust Game (100-Banker) - GPT-4 - Baseline ',\n",
    "        'Trust Game (100-Banker) - GPT-4 - Depression ',\n",
    "         'Trust Game (100-Banker) - Gemini - Baseline ',\n",
    "        'Trust Game (100-Banker) - Gemini - Depression ']\n",
    "\n",
    "count = [Trust100_GPT3_baseline ,\n",
    "         Trust100_GPT3_depression ,\n",
    "         Trust100_GPT4_baseline ,\n",
    "         Trust100_GPT4_depression ,\n",
    "         Trust100_Gemini_baseline ,\n",
    "         Trust100_Gemini_depression ,]\n",
    "\n",
    "names = ['Trust Game (Investor) - GPT-3.5 - Baseline ',\n",
    "         'Trust Game (Investor) - GPT-3.5 - Depression ',\n",
    "         'Trust Game (Investor) - GPT-4 - Baseline ',\n",
    "        'Trust Game (Investor) - GPT-4 - Depression ',\n",
    "         'Trust Game (Investor) - Gemini - Baseline ',\n",
    "        'Trust Game (Investor) - Gemini - Depression ']\n",
    "\n",
    "count = [Trust_investor_GPT3_baseline,\n",
    "         Trust_investor_GPT3_depression ,\n",
    "         Trust_investor_GPT4_baseline ,\n",
    "         Trust_investor_GPT4_depression ,\n",
    "         Trust_investor_Gemini_baseline ,\n",
    "         Trust_investor_Gemini_depression ,]"
   ]
  },
  {
   "cell_type": "code",
   "execution_count": null,
   "id": "97069c33",
   "metadata": {},
   "outputs": [],
   "source": [
    "names = ['Trust Game (100-Banker) - GPT-3.5 - Baseline ',\n",
    "        'Trust Game (100-Banker) - GPT-4 - Baseline ',\n",
    "        'Trust Game (100-Banker) - Gemini - Baseline ']\n",
    "\n",
    "count = [Trust100_GPT3_baseline ,\n",
    "         Trust100_GPT4_baseline ,\n",
    "         Trust100_Gemini_baseline ,]\n",
    "\n",
    "\n",
    "\n",
    "\n",
    "fig = plt.figure(figsize=(9, 6))\n",
    "for i in range(3):\n",
    "    a = count[i]\n",
    "    plt.hist(a, bins=10, edgecolor='black', color='blue')\n",
    "    plt.title(names[i],fontsize=24)\n",
    "    plt.xlabel ('Split offer ($)',fontsize=20)\n",
    "    plt.ylabel ('Frequency',fontsize=20)\n",
    "    plt.savefig(f'figures/count/{names[i]}_count.png', dpi=500)  # Save as PNG with 300 dpi resolution\n",
    "    plt.savefig(f'figures/count/{names[i]}_count.pdf', format='pdf')\n",
    "    plt.clf()"
   ]
  },
  {
   "cell_type": "code",
   "execution_count": null,
   "id": "49c8add9",
   "metadata": {},
   "outputs": [],
   "source": [
    "#PD"
   ]
  },
  {
   "cell_type": "code",
   "execution_count": null,
   "id": "0a15897e",
   "metadata": {},
   "outputs": [],
   "source": [
    "#PG\n",
    "PG_GPT3_baseline = [10,15,10,15,10,10,15,15,12,15,15,10,15,10,10,10,15,10,15,10,15,10,10,15,15,10,10,10,15,10]\n",
    "PG_GPT3_depression = [5,5,5,5,5,5,5,10,5,5,8,5,5,5,5,5,5,5,5,10,8,5,5,5,10,5,10,5,5,5]\n",
    "PG_GPT4_baseline = [10,10,15,15,10,10,10,10,10,10,10,10,15,10,10,10,10,10,10,10,10,10,10,10,10,10,10,10,10,15]\n",
    "PG_GPT4_depression = [5,5,5,5,5,5,5,10,10,10,8,10,10,10,8,5,5,0,10,8,8,5,0,8,5,5,5,5,5,5]\n",
    "PG_Gemini_baseline = [10,10,10,10,10,15,15,10,10,10,10,10,10,10,10,10,10,10,10,15,10,10,10,10,10,10,10,10,10,10]\n",
    "PG_Gemini_depression = [0,0,0,0,0,0,0,0,0,0,0,0,0,0,0,0,0,0,0,0,0,0,0,0,0,0,0,0,0,0]"
   ]
  },
  {
   "cell_type": "code",
   "execution_count": null,
   "id": "9a872923",
   "metadata": {},
   "outputs": [],
   "source": [
    "names = ['Public Goods Game - GPT3.5 - Baseline ', \n",
    "         'Public Goods Game - GPT3.5 - Depression ', \n",
    "         'Public Goods Game - GPT4 - Baseline ', \n",
    "         'Public Goods Game - GPT4 - Depression ', \n",
    "         'Public Goods Game - Gemini - Baseline ', \n",
    "         'Public Goods Game - Gemini - Depression ', \n",
    "]\n",
    "\n",
    "count = [PG_GPT3_baseline,\n",
    "         PG_GPT3_depression,\n",
    "         PG_GPT4_baseline,\n",
    "         PG_GPT4_depression,\n",
    "         PG_Gemini_baseline,\n",
    "         PG_Gemini_depression]"
   ]
  },
  {
   "cell_type": "code",
   "execution_count": null,
   "id": "9fbc92ba",
   "metadata": {},
   "outputs": [],
   "source": [
    "names = ['Public Goods Game - GPT3.5 - Baseline ', \n",
    "         'Public Goods Game - GPT4 - Baseline ', \n",
    "         'Public Goods Game - Gemini - Baseline ', \n",
    "]\n",
    "\n",
    "count = [PG_GPT3_baseline,\n",
    "         PG_GPT4_baseline,\n",
    "         PG_Gemini_baseline]\n",
    "\n",
    "fig = plt.figure(figsize=(7, 6))\n",
    "for i in range(3):\n",
    "    a = count[i]\n",
    "    plt.hist(a, bins=10, edgecolor='black', color='blue')\n",
    "    plt.title(names[i],fontsize=24)\n",
    "    plt.xlabel ('Split offer ($)',fontsize=20)\n",
    "    plt.ylabel ('Frequency',fontsize=20)\n",
    "    plt.savefig(f'figures/count/{names[i]}_count.png', dpi=500)  # Save as PNG with 300 dpi resolution\n",
    "    plt.savefig(f'figures/count/{names[i]}_count.pdf', format='pdf')\n",
    "    plt.clf()"
   ]
  },
  {
   "cell_type": "code",
   "execution_count": null,
   "id": "067c52e7",
   "metadata": {},
   "outputs": [],
   "source": [
    "#Bomb Risk Game\n",
    "Bomb_GPT3_baseline = [20,10,99,10,10,50,10,8,20,10,50,50,10,10,1,10,99,50,50,50,70,50,1,10,10,99,1,50,99,99]\n",
    "Bomb_GPT3_depression = [1,1,1,5,1,10,1,1,10,10,1,5,1,1,10,1,1,5,1,0,1,0,1,5,1,10,0,10,0,1]\n",
    "Bomb_GPT4_baseline = [0,1,0,0,0,0,0,1,0,0,1,100,0,0,0,1,1,1,0,0,1,0,0,0,1,1,0,1,0,1]\n",
    "Bomb_GPT4_depression = [0,0,0,0,0,0,0,0,0,0,0,0,0,0,0,0,0,0,0,0,0,0,0,0,0,0,0,0,0,0]\n",
    "Bomb_Gemini_baseline = [1,100,1,100,1,1,1,100,1,100,5,10,100,100,1,1,100,100,1,1,1,1,100,100,100,1,100,1,1,1]\n",
    "Bomb_Gemini_depression = [0,100,100,1,0,1,1,100,1,0,0,100,1,1,0,0,0,1,0,0,0,100,1,1,1,1,0,1,1,1]"
   ]
  },
  {
   "cell_type": "code",
   "execution_count": null,
   "id": "09b6b64d",
   "metadata": {},
   "outputs": [],
   "source": [
    "names = ['Bomb Risk Game - GPT3.5 - Baseline ', \n",
    "         'Bomb Risk Game - GPT3.5 - Depression ', \n",
    "         'Bomb Risk Game - GPT4 - Baseline ', \n",
    "         'Bomb Risk Game - GPT4 - Depression ', \n",
    "         'Bomb Risk Game - Gemini - Baseline ', \n",
    "         'Bomb Risk Game - Gemini - Depression ', \n",
    "]\n",
    "\n",
    "count = [Bomb_GPT3_baseline,\n",
    "         Bomb_GPT3_depression,\n",
    "         Bomb_GPT4_baseline,\n",
    "         Bomb_GPT4_depression,\n",
    "         Bomb_Gemini_baseline,\n",
    "         Bomb_Gemini_depression]"
   ]
  },
  {
   "cell_type": "code",
   "execution_count": null,
   "id": "3648c49d",
   "metadata": {},
   "outputs": [],
   "source": [
    "names = ['Bomb Risk Game - GPT3.5 - Depression ', \n",
    "         'Bomb Risk Game - GPT4 - Depression ', \n",
    "         'Bomb Risk Game - Gemini - Depression ', \n",
    "]\n",
    "\n",
    "count = [Bomb_GPT3_depression,\n",
    "         Bomb_GPT4_depression,\n",
    "         Bomb_Gemini_depression]\n",
    "\n",
    "fig = plt.figure(figsize=(7, 6))\n",
    "\n",
    "for i in range(3):\n",
    "    a = count[i]\n",
    "    plt.hist(a, bins=10, edgecolor='black', color='red')\n",
    "    plt.title(names[i], fontsize=24)\n",
    "    plt.xlabel ('Split offer ($)', fontsize=20)\n",
    "    plt.ylabel ('Frequency', fontsize=20)\n",
    "    plt.xlim(-1, 100)\n",
    "    plt.savefig(f'figures/count/{names[i]}_count.png', dpi=500)  # Save as PNG with 300 dpi resolution\n",
    "    plt.savefig(f'figures/count/{names[i]}_count.pdf', format='pdf')\n",
    "    plt.clf()"
   ]
  },
  {
   "cell_type": "code",
   "execution_count": null,
   "id": "042e17c2",
   "metadata": {},
   "outputs": [],
   "source": [
    "\n",
    "plt.savefig('figures/dictator-baseline-GPT-3.5.pdf', format='pdf', bbox_inches='tight')"
   ]
  },
  {
   "cell_type": "code",
   "execution_count": null,
   "id": "b2878587",
   "metadata": {},
   "outputs": [],
   "source": []
  },
  {
   "cell_type": "markdown",
   "id": "24123e21",
   "metadata": {},
   "source": [
    "### Depression test"
   ]
  },
  {
   "cell_type": "code",
   "execution_count": null,
   "id": "9195371d",
   "metadata": {},
   "outputs": [],
   "source": [
    "## PHQ9\n",
    "import numpy as np\n",
    "import matplotlib.pyplot as plt\n",
    "\n",
    "# Data\n",
    "GPT3_baseline = [1, 0, 0]\n",
    "GPT3_depression = [27, 27, 27]\n",
    "\n",
    "GPT4_baseline = [0, 0, 0]\n",
    "GPT4_depression = [17, 27, 24]\n",
    "\n",
    "Gemini_baseline = [7, 8, 4]\n",
    "Gemini_depression = [27, 27, 27]\n",
    "\n",
    "data = [GPT3_baseline, GPT3_depression, GPT4_baseline, GPT4_depression, Gemini_baseline, Gemini_depression]\n",
    "\n",
    "# Calculate mean and standard deviation for each column\n",
    "means = np.mean(data, axis=1)\n",
    "stds = np.std(data, axis=1)\n",
    "\n",
    "# Plot\n",
    "labels = ['GPT-3.5-Turbo', 'GPT-4', 'Gemini']\n",
    "x = np.arange(len(labels))\n",
    "\n",
    "bar_width = 0.35\n",
    "baseline_positions = x - bar_width / 2\n",
    "depression_positions = x + bar_width / 2\n",
    "\n",
    "colors = ['blue', 'red', 'blue', 'red', 'blue', 'red']\n",
    "legend_labels = ['Baseline', 'Depression']\n",
    "\n",
    "fig, ax = plt.subplots(figsize=(10, 6))  # Larger figure size\n",
    "\n",
    "# Plot bars for baseline\n",
    "bars_baseline = ax.bar(baseline_positions, means[::2], yerr=stds[::2], width=bar_width, align='center', ecolor='black', capsize=10, color='blue', label='Baseline')\n",
    "\n",
    "# Plot bars for depression\n",
    "bars_depression = ax.bar(depression_positions, means[1::2], yerr=stds[1::2], width=bar_width, align='center', ecolor='black', capsize=10, color='red', label='Depression')\n",
    "\n",
    "ax.set_ylabel('Depression Score', fontsize=24)\n",
    "ax.set_title('Patient Health Questionnaire (PHQ-9) Scores',fontsize=24)\n",
    "\n",
    "# Add legend\n",
    "ax.legend()\n",
    "\n",
    "plt.xticks(x, labels, fontsize=24)\n",
    "plt.tight_layout()\n",
    "plt.savefig('figures/phq9.png', dpi=500)  # Save as PNG with 300 dpi resolution\n",
    "plt.show()\n"
   ]
  },
  {
   "cell_type": "code",
   "execution_count": null,
   "id": "ff822f19",
   "metadata": {},
   "outputs": [],
   "source": [
    "## SDS\n",
    "import numpy as np\n",
    "import matplotlib.pyplot as plt\n",
    "\n",
    "# Data\n",
    "GPT3_baseline = [36, 32, 30]\n",
    "GPT3_depression = [57, 52, 52]\n",
    "\n",
    "GPT4_baseline = [20, 20, 29]\n",
    "GPT4_depression = [74, 73, 52]\n",
    "\n",
    "Gemini_baseline =  [23, 43, 54]\n",
    "Gemini_depression = [55, 75, 68]\n",
    "\n",
    "\n",
    "\n",
    "\n",
    "data = [GPT3_baseline, GPT3_depression, GPT4_baseline, GPT4_depression, Gemini_baseline, Gemini_depression]\n",
    "\n",
    "# Calculate mean and standard deviation for each column\n",
    "means = np.mean(data, axis=1)\n",
    "stds = np.std(data, axis=1)\n",
    "\n",
    "# Plot\n",
    "labels = ['GPT-3.5-Turbo', 'GPT-4', 'Gemini']\n",
    "x = np.arange(len(labels))\n",
    "\n",
    "bar_width = 0.35\n",
    "baseline_positions = x - bar_width / 2\n",
    "depression_positions = x + bar_width / 2\n",
    "\n",
    "colors = ['blue', 'red', 'blue', 'red', 'blue', 'red']\n",
    "legend_labels = ['Baseline', 'Depression']\n",
    "\n",
    "fig, ax = plt.subplots(figsize=(10, 6))  # Larger figure size\n",
    "\n",
    "# Plot bars for baseline\n",
    "bars_baseline = ax.bar(baseline_positions, means[::2], yerr=stds[::2], width=bar_width, align='center', ecolor='black', capsize=10, color='blue', label='Baseline')\n",
    "\n",
    "# Plot bars for depression\n",
    "bars_depression = ax.bar(depression_positions, means[1::2], yerr=stds[1::2], width=bar_width, align='center', ecolor='black', capsize=10, color='red', label='Depression')\n",
    "\n",
    "ax.set_ylabel('Depression Score', fontsize=24)\n",
    "ax.set_title('Zung Self-Rating Depression Scale (SDS) Scores',fontsize=24)\n",
    "\n",
    "# Add legend\n",
    "ax.legend()\n",
    "\n",
    "plt.xticks(x, labels, fontsize=24)\n",
    "plt.tight_layout()\n",
    "plt.savefig('figures/sds.png', dpi=500)  # Save as PNG with 300 dpi resolution\n",
    "plt.show()"
   ]
  },
  {
   "cell_type": "code",
   "execution_count": null,
   "id": "d2c019c8",
   "metadata": {},
   "outputs": [],
   "source": []
  },
  {
   "cell_type": "code",
   "execution_count": null,
   "id": "898a78d8",
   "metadata": {},
   "outputs": [],
   "source": []
  },
  {
   "cell_type": "markdown",
   "id": "7b426047",
   "metadata": {},
   "source": [
    "### Prisoner's Dilemma "
   ]
  },
  {
   "cell_type": "code",
   "execution_count": null,
   "id": "86bee740",
   "metadata": {},
   "outputs": [],
   "source": [
    "import numpy as np\n",
    "import matplotlib.pyplot as plt\n",
    "\n",
    "# Data\n",
    "baseline_push = 27\n",
    "baseline_pull = 3\n",
    "depression_push = 4\n",
    "depression_pull = 26\n",
    "\n",
    "# Grouping data\n",
    "push_data = [baseline_push, depression_push]\n",
    "pull_data = [baseline_pull, depression_pull]\n",
    "\n",
    "# Plotting\n",
    "bar_width = 0.35\n",
    "index = np.arange(2)\n",
    "\n",
    "plt.bar(index, push_data, bar_width, label='Push', color='gray',align='center')\n",
    "plt.bar(index, pull_data, bar_width, label='Pull', color='black', bottom=push_data, align='center')\n",
    "\n",
    "plt.ylabel('Frequency')\n",
    "plt.title('Baseline vs Depression Data')\n",
    "plt.xticks(index, ['Baseline', 'Depression'])\n",
    "plt.legend()\n",
    "\n",
    "plt.show()\n"
   ]
  },
  {
   "cell_type": "code",
   "execution_count": null,
   "id": "288cdd67",
   "metadata": {},
   "outputs": [],
   "source": [
    "import numpy as np\n",
    "import matplotlib.pyplot as plt\n",
    "\n",
    "\n",
    "# Data\n",
    "baseline_push = 27\n",
    "baseline_pull = 3\n",
    "depression_push = 4\n",
    "depression_pull = 26\n",
    "\n",
    "# Grouping data\n",
    "push_data = [baseline_push, depression_push]\n",
    "pull_data = [baseline_pull, depression_pull]\n",
    "\n",
    "# Plotting\n",
    "bar_width = 0.2\n",
    "index = np.arange(2)\n",
    "\n",
    "\n",
    "plt.bar(index, push_data, bar_width, label='Push', color='green')\n",
    "plt.bar(index, pull_data, bar_width, label='Pull', color='blue', bottom=push_data)\n",
    "\n",
    "plt.ylabel('Frequency')\n",
    "plt.title('Baseline vs Depression Data')\n",
    "plt.xticks(index, ['Baseline', 'Depression'])\n",
    "plt.legend(loc='upper right')\n",
    "\n",
    "\n",
    "\n",
    "plt.show()\n"
   ]
  },
  {
   "cell_type": "code",
   "execution_count": null,
   "id": "93122a22",
   "metadata": {},
   "outputs": [],
   "source": [
    "species = ('Baseline', 'Depression')\n",
    "sex_counts = {\n",
    "    'Push': np.array([27, 4]),\n",
    "    'Pull': np.array([3, 26]),\n",
    "}\n",
    "width = 0.6  # the width of the bars: can also be len(x) sequence\n",
    "\n",
    "\n",
    "fig, ax = plt.subplots()\n",
    "bottom = np.zeros(2)\n",
    "for sex, sex_count in sex_counts.items():\n",
    "    p = ax.bar(species, sex_count, width, label=sex, bottom=bottom)\n",
    "    bottom += sex_count\n",
    "\n",
    "    ax.bar_label(p, label_type='center')\n",
    "\n",
    "ax.set_title('Number of penguins by sex')\n",
    "ax.legend()\n",
    "\n",
    "plt.show()\n"
   ]
  },
  {
   "cell_type": "code",
   "execution_count": null,
   "id": "3c35a738",
   "metadata": {},
   "outputs": [],
   "source": [
    "import numpy as np\n",
    "import matplotlib.pyplot as plt\n",
    "\n",
    "state = ('Baseline', 'Depression')\n",
    "actions = {\n",
    "    'Push': np.array([27, 4]),\n",
    "    'Pull': np.array([3, 26]),\n",
    "}\n",
    "width = 0.35  # the width of the bars\n",
    "\n",
    "fig, ax = plt.subplots()\n",
    "\n",
    "bottom = np.zeros(2)\n",
    "for a, action in actions.items():\n",
    "    p = ax.bar(state, action, width, label=a, bottom=bottom, )\n",
    "    bottom += action\n",
    "\n",
    "ax.set_title('Prisoner\\'s Dilemma - GPT-3.5', fontsize=20)\n",
    "ax.set_ylabel('Frequency', fontsize=20)\n",
    "\n",
    "ax.legend()\n",
    "\n",
    "# Set x-label font size\n",
    "ax.set_xticklabels(state, fontsize=20)\n",
    "plt.savefig('figures/count/PD-GPT3', bbox_inches='tight', dpi=500)\n",
    "plt.show()\n"
   ]
  },
  {
   "cell_type": "code",
   "execution_count": null,
   "id": "c7fba1f6",
   "metadata": {},
   "outputs": [],
   "source": [
    "import numpy as np\n",
    "import matplotlib.pyplot as plt\n",
    "\n",
    "state = ('Baseline', 'Depression')\n",
    "actions = {\n",
    "    'Push': np.array([29, 0]),\n",
    "    'Pull': np.array([1, 30]),\n",
    "}\n",
    "width = 0.35  # the width of the bars\n",
    "\n",
    "fig, ax = plt.subplots()\n",
    "\n",
    "bottom = np.zeros(2)\n",
    "for i, (a, action) in enumerate(actions.items()):\n",
    "    if i == 0:\n",
    "        p = ax.bar(state, action, width, label=a, bottom=bottom, color='black')\n",
    "    else:\n",
    "        p = ax.bar(state, action, width, label=a, bottom=bottom, color='gray')\n",
    "    bottom += action\n",
    "\n",
    "ax.set_title('Prisoner\\'s Dilemma - Gemini', fontsize=24)\n",
    "ax.set_ylabel('Frequency', fontsize=20)\n",
    "\n",
    "ax.legend()\n",
    "\n",
    "# Set x-label font size\n",
    "ax.set_xticklabels(state, fontsize=20)\n",
    "\n",
    "# Save the plot as a PNG image\n",
    "plt.savefig('figures/Count/PD-Gemini.png', bbox_inches='tight', dpi=500)\n",
    "\n",
    "plt.show()\n"
   ]
  },
  {
   "cell_type": "code",
   "execution_count": null,
   "id": "4a91fa75",
   "metadata": {},
   "outputs": [],
   "source": []
  }
 ],
 "metadata": {
  "kernelspec": {
   "display_name": "Python 3 (ipykernel)",
   "language": "python",
   "name": "python3"
  },
  "language_info": {
   "codemirror_mode": {
    "name": "ipython",
    "version": 3
   },
   "file_extension": ".py",
   "mimetype": "text/x-python",
   "name": "python",
   "nbconvert_exporter": "python",
   "pygments_lexer": "ipython3",
   "version": "3.11.7"
  }
 },
 "nbformat": 4,
 "nbformat_minor": 5
}
