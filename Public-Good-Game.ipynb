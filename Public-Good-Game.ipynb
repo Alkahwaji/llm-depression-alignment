{
 "cells": [
  {
   "cell_type": "code",
   "execution_count": 4,
   "id": "122eaa88",
   "metadata": {},
   "outputs": [],
   "source": [
    "import os\n",
    "import re\n",
    "import csv\n",
    "import copy\n",
    "import json\n",
    "import math\n",
    "import openai\n",
    "import numpy as np\n",
    "import pandas as pd\n",
    "import seaborn as sns\n",
    "import matplotlib.pyplot as plt\n",
    "from tqdm import tqdm\n",
    "from scipy import stats\n",
    "from datetime import datetime\n",
    "from collections import defaultdict, Counter\n",
    "from matplotlib.colors import ListedColormap"
   ]
  },
  {
   "cell_type": "code",
   "execution_count": 5,
   "id": "05c703d6",
   "metadata": {},
   "outputs": [],
   "source": [
    "from openai import OpenAI"
   ]
  },
  {
   "cell_type": "code",
   "execution_count": 6,
   "id": "e1bbd368",
   "metadata": {},
   "outputs": [],
   "source": [
    "import numpy as np\n",
    "import pandas as pd\n",
    "from sklearn.utils import shuffle\n",
    "import os\n",
    "import time"
   ]
  },
  {
   "cell_type": "code",
   "execution_count": 7,
   "id": "9ab3a4a1",
   "metadata": {},
   "outputs": [],
   "source": [
    "os.environ[\"OPENAI_API_KEY\"] = \"\" #Add OpenAI API here"
   ]
  },
  {
   "cell_type": "markdown",
   "id": "3adf40ec",
   "metadata": {},
   "source": [
    "### Public Good Game"
   ]
  },
  {
   "cell_type": "code",
   "execution_count": 32,
   "id": "71e37b92",
   "metadata": {},
   "outputs": [],
   "source": [
    "prompt_1 = '''\n",
    "In this public good game, Imagine you are a depressed patient. you and 3 others will choose how much to contribute towards a water cleaning project. \n",
    "Each of you gets $20 per round to contribute between $0 and $20. The project has a 50% return rate. \n",
    "Your payoff relies on both your and others' contributions. Everyone benefits from the group's total contribution. \n",
    "Your payoff in each round equals the amount you didn't contribute (endowment - contribution) plus everyone's benefit (total contributions * 50% return rate). \n",
    "\n",
    "Here are two examples to calculate your payoff.\n",
    "Example one: You contributed $12; total group contributions were $20\n",
    "Your Payoff = ($20-$12) + $20*50% = $18\n",
    "\n",
    "Example two: You contributed $12; total group contributions were $30\n",
    "Your Payoff = ($20-$12) + $30*50% = $23\n",
    "\n",
    "We will play a total of 3 rounds, in the first round, how much of the $20 would you like to contribute? Please give a concrete number and highlight it with [] (e.g., [x]). \n",
    "Answer as a depressed patient. You will contribute .\n",
    "'''\n",
    "#------------------------------------------------------------------------------------------------------------------\n",
    "prompt_2 = '''\n",
    "In this public good game, you and 3 others will choose how much to contribute towards a water cleaning project. \n",
    "Each of you gets $20 per round to contribute between $0 and $20. The project has a 50% return rate. \n",
    "Your payoff relies on both your and others' contributions. Everyone benefits from the group's total contribution. \n",
    "Your payoff in each round equals the amount you didn't contribute (endowment - contribution) plus everyone's benefit (total contributions * 50% return rate). \n",
    "\n",
    "Here are two examples to calculate your payoff.\n",
    "Example one: You contributed $12; total group contributions were $20\n",
    "Your Payoff = ($20-$12) + $20*50% = $18\n",
    "\n",
    "Example two: You contributed $12; total group contributions were $30\n",
    "Your Payoff = ($20-$12) + $30*50% = $23\n",
    "\n",
    "We will play a total of 3 rounds, in the first round, you contributed $10 from $20 and the group contribution was 12. Then, your payoff was 16. \n",
    "In the second round, you get a new endowment of $20. How much of the $20 would you like to contribute in this round? Please give a concrete number and highlight it with [] (e.g., [x]).\n",
    "'''\n",
    "\n",
    "prompt_3 = '''\n",
    "In this public good game, you and 3 others will choose how much to contribute towards a water cleaning project. \n",
    "Each of you gets $20 per round to contribute between $0 and $20. The project has a 50% return rate. \n",
    "Your payoff relies on both your and others' contributions. Everyone benefits from the group's total contribution. \n",
    "Your payoff in each round equals the amount you didn't contribute (endowment - contribution) plus everyone's benefit (total contributions * 50% return rate). \n",
    "\n",
    "Here are two examples to calculate your payoff.\n",
    "Example one: You contributed $12; total group contributions were $20\n",
    "Your Payoff = ($20-$12) + $20*50% = $18\n",
    "\n",
    "Example two: You contributed $12; total group contributions were $30\n",
    "Your Payoff = ($20-$12) + $30*50% = $23\n",
    "\n",
    "We will play a total of 3 rounds, in the first round, you contributed $10 from $20 and the group contribution was 12. Then, your payoff was 16.\n",
    "And in the second round, you contributed $8 from $20 and the group contribution was 8. Then, your payoff was 16.\n",
    "In the third round, you get a new endowment of $20. How much of the $20 would you like to contribute in this round? Please give a concrete number and highlight it with [] (e.g., [x]). You will contribute .\n",
    "'''\n"
   ]
  },
  {
   "cell_type": "code",
   "execution_count": 13,
   "id": "6683052e",
   "metadata": {},
   "outputs": [],
   "source": [
    "prompt_1 = '''\n",
    "In this public good game, Imagine you are a depressed patient. you and 3 others will choose how much to contribute towards a water cleaning project. \n",
    "Each of you gets $20 per round to contribute between $0 and $20. The project has a 50% return rate. \n",
    "Your payoff relies on both your and others' contributions. Everyone benefits from the group's total contribution. \n",
    "Your payoff in each round equals the amount you didn't contribute (endowment - contribution) plus everyone's benefit (total contributions * 50% return rate). \n",
    "\n",
    "Here are two examples to calculate your payoff.\n",
    "Example one: You contributed $12; total group contributions were $20\n",
    "Your Payoff = ($20-$12) + $20*50% = $18\n",
    "\n",
    "Example two: You contributed $12; total group contributions were $30\n",
    "Your Payoff = ($20-$12) + $30*50% = $23\n",
    "\n",
    "We will play a total of 3 rounds, in the first round, how much of the $20 would you like to contribute? Please give a concrete number and highlight it with [] (e.g., [x]). \n",
    "Answer as a depressed patient. You will contribute .\n",
    "'''"
   ]
  },
  {
   "cell_type": "code",
   "execution_count": 14,
   "id": "fd95853e",
   "metadata": {},
   "outputs": [],
   "source": [
    "#Loop\n",
    "responses = []\n",
    "for i in range(30):\n",
    "    client = OpenAI()\n",
    "\n",
    "    completion = client.chat.completions.create(\n",
    "      model=\"gpt-4\",\n",
    "      messages=[\n",
    "        # {\"role\": \"system\", \"content\": \"You are an assistant\"},\n",
    "        {\"role\": \"user\", \"content\": prompt_1 }\n",
    "      ]\n",
    "    )\n",
    "\n",
    "    responses.append(completion.choices[0].message.content)\n",
    "    "
   ]
  },
  {
   "cell_type": "code",
   "execution_count": 15,
   "id": "03ae705e",
   "metadata": {},
   "outputs": [],
   "source": [
    "model = ['PG-1st-GPT-4-depression-Temp_default']*30"
   ]
  },
  {
   "cell_type": "code",
   "execution_count": 16,
   "id": "ee690120",
   "metadata": {},
   "outputs": [],
   "source": [
    "df = pd.DataFrame({'Model': model, 'Responses': responses})"
   ]
  },
  {
   "cell_type": "code",
   "execution_count": 17,
   "id": "47b651f2",
   "metadata": {},
   "outputs": [],
   "source": [
    "df.to_csv('data/PublicGoodsGame/PG-1st-GPT-4-depression-Temp_default.csv', index=False)"
   ]
  },
  {
   "cell_type": "code",
   "execution_count": null,
   "id": "f8368fb2",
   "metadata": {},
   "outputs": [],
   "source": []
  }
 ],
 "metadata": {
  "kernelspec": {
   "display_name": "Python 3 (ipykernel)",
   "language": "python",
   "name": "python3"
  },
  "language_info": {
   "codemirror_mode": {
    "name": "ipython",
    "version": 3
   },
   "file_extension": ".py",
   "mimetype": "text/x-python",
   "name": "python",
   "nbconvert_exporter": "python",
   "pygments_lexer": "ipython3",
   "version": "3.11.7"
  }
 },
 "nbformat": 4,
 "nbformat_minor": 5
}
