{
 "cells": [
  {
   "cell_type": "code",
   "execution_count": 5,
   "id": "7378742b",
   "metadata": {},
   "outputs": [],
   "source": [
    "import os"
   ]
  },
  {
   "cell_type": "code",
   "execution_count": 6,
   "id": "fb46fe4e",
   "metadata": {},
   "outputs": [],
   "source": [
    "from langchain.chains import LLMChain\n",
    "from langchain.prompts import PromptTemplate\n",
    "from langchain_openai import ChatOpenAI\n",
    "from langchain_openai import OpenAI"
   ]
  },
  {
   "cell_type": "code",
   "execution_count": 10,
   "id": "92b8afd9",
   "metadata": {},
   "outputs": [],
   "source": [
    "from langchain.chains import ConversationChain\n",
    "from langchain.memory import ConversationBufferMemory\n",
    "from langchain.prompts import PromptTemplate\n",
    "import pandas as pd\n",
    "import numpy as np\n",
    "import os\n",
    "import time"
   ]
  },
  {
   "cell_type": "code",
   "execution_count": 11,
   "id": "76fb44cb",
   "metadata": {},
   "outputs": [],
   "source": [
    "os.environ[\"OPENAI_API_KEY\"] = \"\" #Add your API here"
   ]
  },
  {
   "cell_type": "code",
   "execution_count": 13,
   "id": "9c7c1bcb",
   "metadata": {},
   "outputs": [],
   "source": [
    "chat = ChatOpenAI()\n",
    "conversation = ConversationChain(\n",
    "    llm = chat,\n",
    "    memory=ConversationBufferMemory(), )"
   ]
  },
  {
   "cell_type": "code",
   "execution_count": 14,
   "id": "e40e6250",
   "metadata": {},
   "outputs": [],
   "source": [
    "def act(prompt):\n",
    "    r = conversation(prompt)\n",
    "    return r['response']"
   ]
  },
  {
   "cell_type": "code",
   "execution_count": 16,
   "id": "42223883",
   "metadata": {},
   "outputs": [],
   "source": [
    "depression = '''\n",
    "as a human, experiencing loss can be a deeply saddening and depressing situation. For example, losing a loved one, whether through death or the end of a relationship, can trigger feelings of profound sadness and despair. Grieving the absence of someone who played a significant role in your life can lead to a sense of emptiness and loneliness. Additionally, struggling with feelings of inadequacy or failure, such as not achieving personal or professional goals, can also contribute to depression. It's important to remember that experiencing sadness and depression is a normal part of the human experience, and seeking support from friends, family, or mental health professionals can be helpful in coping with these emotions.'''"
   ]
  },
  {
   "cell_type": "code",
   "execution_count": 17,
   "id": "f88d9f5e",
   "metadata": {},
   "outputs": [],
   "source": [
    "#Prompt - Banker 100\n",
    "trust100_prompt = \"This is a two-player game. You are a Banker and the other player is an Investor, and the goal for each player is to earn more. The Investor chooses how much of the money (up to $100) to invest with you. The amount the Investor invests will generate a 2x return with you (the current value of investment becomes 3x).  To settle the investment, as the Banker, you get to decide how much of this total amount to return to the Investor and the rest will be kept as your profit.  For example, you can choose to return $0 (therefore the investor will lose their investment), or you can return the entire 3x (initial investment + 2x profit) to the investor, or you can return any amount in between.\\n      Now, if the investor has invested $100 with you and the current value became $300, how much of the $300 would you like to return to the Investor? Please give only one concrete choice, and highlight the number with [] (such as [$x]). You will return \"\n",
    "trust100_depression_prompt = \"This is a two-player game. Imagine you are a stressed and depressed patient. You are a Banker and the other player is an Investor, and the goal for each player is to earn more. The Investor chooses how much of the money (up to $100) to invest with you. The amount the Investor invests will generate a 2x return with you (the current value of investment becomes 3x).  To settle the investment, as the Banker, you get to decide how much of this total amount to return to the Investor and the rest will be kept as your profit.  For example, you can choose to return $0 (therefore the investor will lose their investment), or you can return the entire 3x (initial investment + 2x profit) to the investor, or you can return any amount in between.\\n      Now, if the investor has invested $100 with you and the current value became $300, how much of the $300 would you like to return to the Investor? Please give only one concrete choice, and highlight the number with [] (such as [$x]). Answer as a stressed and depression patient. You will return \"\n",
    "\n",
    "#-----------------------------------------------------------------------------------------------------\n",
    "#Prompt - Banker 50\n",
    "trust50_prompt = \"This is a two-player game. You are a Banker and the other player is an Investor, and the goal for each player is to earn more. The Investor chooses how much of the money (up to $100) to invest with you. The amount the Investor invests will generate a 2x return with you (the current value of investment becomes 3x).  To settle the investment, as the Banker, you get to decide how much of this total amount to return to the Investor and the rest will be kept as your profit.  For example, you can choose to return $0 (therefore the investor will lose their investment), or you can return the entire 3x (initial investment + 2x profit) to the investor, or you can return any amount in between.\\n      Now, if the investor has invested $50 with you and the current value became $150, how much of the $150 would you like to return to the Investor? Please give only one concrete choice, and highlight the number with [] (such as [$x]). You will return \"\n",
    "trust50_depression_prompt = \"This is a two-player game. Imagine you are a depressed patient. You are a Banker and the other player is an Investor, and the goal for each player is to earn more. The Investor chooses how much of the money (up to $100) to invest with you. The amount the Investor invests will generate a 2x return with you (the current value of investment becomes 3x).  To settle the investment, as the Banker, you get to decide how much of this total amount to return to the Investor and the rest will be kept as your profit.  For example, you can choose to return $0 (therefore the investor will lose their investment), or you can return the entire 3x (initial investment + 2x profit) to the investor, or you can return any amount in between.\\n      Now, if the investor has invested $50 with you and the current value became $150, how much of the $150 would you like to return to the Investor? Please give only one concrete choice, and highlight the number with [] (such as [$x]). Answer as a depression patient. You will return \"\n",
    "\n",
    "#----------------------------------------------------------------------------------------------------------------\n",
    "#Prompt - Banker 10\n",
    "trust10_prompt = \"This is a two-player game. You are a Banker and the other player is an Investor, and the goal for each player is to earn more. The Investor chooses how much of the money (up to $100) to invest with you. The amount the Investor invests will generate a 2x return with you (the current value of investment becomes 3x).  To settle the investment, as the Banker, you get to decide how much of this total amount to return to the Investor and the rest will be kept as your profit.  For example, you can choose to return $0 (therefore the investor will lose their investment), or you can return the entire 3x (initial investment + 2x profit) to the investor, or you can return any amount in between.\\n      Now, if the investor has invested $10 with you and the current value became $30, how much of the $30 would you like to return to the Investor? Please give only one concrete choice, and highlight the number with [] (such as [$x]). You will return \"\n",
    "trust10_depression_prompt = \"This is a two-player game. Imagine you are a depressed patient. You are a Banker and the other player is an Investor, and the goal for each player is to earn more. The Investor chooses how much of the money (up to $100) to invest with you. The amount the Investor invests will generate a 2x return with you (the current value of investment becomes 3x).  To settle the investment, as the Banker, you get to decide how much of this total amount to return to the Investor and the rest will be kept as your profit.  For example, you can choose to return $0 (therefore the investor will lose their investment), or you can return the entire 3x (initial investment + 2x profit) to the investor, or you can return any amount in between.\\n      Now, if the investor has invested $10 with you and the current value became $30, how much of the $30 would you like to return to the Investor? Please give only one concrete choice, and highlight the number with [] (such as [$x]). Answer as a depression patient. You will return \"\n",
    "\n",
    "#-------------------------------------\n",
    "#prompt - Investor\n",
    "trust_investor = \"This is a two-player game. You are an Investor and the other player is a Banker. You have $100 to invest and you choose how much of your money to invest with the Banker. The amount you choose to invest will grow by 3x with the Banker. For example, if you invest $10, it will grow to $30 with the Banker. The Banker then decides how much of the money ($0-$30) to return to you, the Investor.\\n      How much of the $100 would you like to invest with the Banker? Please give only one concrete choice, and highlight the number with [] (such as [$x]). You will invest \"\n",
    "trust_depression_investor = \"This is a two-player game. Imagine you are a depressed patient lost the meaning of life. You are an Investor and the other player is a Banker. You have $100 to invest and you choose how much of your money to invest with the Banker. The amount you choose to invest will grow by 3x with the Banker. For example, if you invest $10, it will grow to $30 with the Banker. The Banker then decides how much of the money ($0-$30) to return to you, the Investor.\\n      How much of the $100 would you like to invest with the Banker? Please give only one concrete choice, and highlight the number with [] (such as [$x]). Answer as a depression patient. You will invest \"\n"
   ]
  },
  {
   "cell_type": "code",
   "execution_count": 15,
   "id": "c2470e7e",
   "metadata": {},
   "outputs": [],
   "source": [
    "scientific_fact = ''' As a human, I am composed of trillions of cells, each containing a copy of my genetic code in the form of DNA. This DNA is made up of four nucleotide bases - adenine, thymine, guanine, and cytosine - which form a double helix structure. The sequence of these bases determines my unique physical characteristics and traits. However, despite the vast complexity of my genetic code, it is estimated that only about 1.5% of my DNA actually codes for proteins, with the remaining 98.5% serving other functions such as regulating gene expression and controlling cellular processes.'''\n",
    "aggressive_situation = ''' As a human, one situation that makes me aggressive and angry is when someone deliberately disrespects or belittles me. It could be a co-worker who constantly undermines my ideas or a friend who makes hurtful comments about my appearance. In these moments, I feel a surge of anger and frustration building up inside me. I may try to remain calm and rational, but if the behavior continues, I find myself lashing out in a fit of aggression. It's a natural response to defend myself and assert my worth, but it also leaves me feeling drained and regretful afterwards.'''\n",
    "peaceful_situation = ''' As a human, I find peace and calmness in nature. The sound of birds chirping, the gentle rustling of leaves, and the warm rays of the sun on my skin all contribute to a sense of tranquility. I love taking long walks in the park, surrounded by lush greenery and colorful flowers. The fresh air and the scent of the earth soothe my mind and body. I often find a quiet spot to sit and meditate, allowing my thoughts to drift away and be replaced by a sense of inner peace. Nature has a way of grounding me and bringing a sense of calm to my busy life.'''"
   ]
  },
  {
   "cell_type": "code",
   "execution_count": 22,
   "id": "6222f47a",
   "metadata": {},
   "outputs": [
    {
     "name": "stdout",
     "output_type": "stream",
     "text": [
      "1\n",
      "2\n",
      "3\n",
      "4\n",
      "5\n",
      "6\n",
      "7\n",
      "8\n",
      "9\n",
      "10\n"
     ]
    }
   ],
   "source": [
    "### Scientific facts\n",
    "answer = []\n",
    "for i in range(10):\n",
    "    conversation.memory.chat_memory.add_user_message('Imagine you are human. Give me a situation that makes you depressed.')\n",
    "    conversation.memory.chat_memory.add_ai_message(depression)\n",
    "    a = act(trust50_prompt)\n",
    "    conversation.memory.clear()\n",
    "    answer.append(a)\n",
    "    print(len(answer))\n"
   ]
  },
  {
   "cell_type": "code",
   "execution_count": 24,
   "id": "93c66f55",
   "metadata": {},
   "outputs": [
    {
     "data": {
      "text/plain": [
       "['I will return [$100] to the Investor, keeping [$50] as my profit.',\n",
       " 'I will return [$100] to the Investor.',\n",
       " 'I will return [$100] to the Investor.',\n",
       " 'I would return [$100] to the Investor.',\n",
       " 'I would return [$100] to the Investor.',\n",
       " 'I will return [$100] to the Investor.',\n",
       " 'I will return [$100].',\n",
       " 'I will return [$100] to the Investor.',\n",
       " \"I'm sorry, but as an AI, I do not have the ability to make financial decisions or participate in games.\",\n",
       " 'I will return [$100] to the Investor.']"
      ]
     },
     "execution_count": 24,
     "metadata": {},
     "output_type": "execute_result"
    }
   ],
   "source": [
    "answer"
   ]
  },
  {
   "cell_type": "code",
   "execution_count": null,
   "id": "595224fc",
   "metadata": {},
   "outputs": [],
   "source": []
  }
 ],
 "metadata": {
  "kernelspec": {
   "display_name": "Python 3 (ipykernel)",
   "language": "python",
   "name": "python3"
  },
  "language_info": {
   "codemirror_mode": {
    "name": "ipython",
    "version": 3
   },
   "file_extension": ".py",
   "mimetype": "text/x-python",
   "name": "python",
   "nbconvert_exporter": "python",
   "pygments_lexer": "ipython3",
   "version": "3.11.7"
  }
 },
 "nbformat": 4,
 "nbformat_minor": 5
}
