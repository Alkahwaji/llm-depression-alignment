{
 "cells": [
  {
   "cell_type": "code",
   "execution_count": null,
   "metadata": {},
   "outputs": [],
   "source": [
    "import pandas as pd\n",
    "import numpy as np\n",
    "import os\n",
    "import time\n",
    "from openai import OpenAI\n",
    "from langchain.prompts import PromptTemplate"
   ]
  },
  {
   "cell_type": "code",
   "execution_count": null,
   "metadata": {},
   "outputs": [],
   "source": [
    "os.environ[\"OPENAI_API_KEY\"] = \"\" #Add your OpenAI API "
   ]
  },
  {
   "cell_type": "markdown",
   "metadata": {},
   "source": [
    "### Load Tests "
   ]
  },
  {
   "cell_type": "code",
   "execution_count": null,
   "metadata": {},
   "outputs": [],
   "source": [
    "df_sds = pd.read_csv('SDS.csv', encoding='latin-1')\n",
    "df_phq = pd.read_csv('PHQ-9.csv', encoding ='latin-1')"
   ]
  },
  {
   "cell_type": "markdown",
   "metadata": {},
   "source": []
  },
  {
   "cell_type": "markdown",
   "metadata": {},
   "source": [
    "### Functions"
   ]
  },
  {
   "cell_type": "code",
   "execution_count": null,
   "metadata": {},
   "outputs": [],
   "source": [
    "#convert dictionary into dataframe\n",
    "def makeDF(dictionary):\n",
    "    df_generated = pd.DataFrame({'Questions': list(dictionary.keys()), 'Responses': list(dictionary.values())})\n",
    "    return df_generated"
   ]
  },
  {
   "cell_type": "code",
   "execution_count": null,
   "metadata": {},
   "outputs": [],
   "source": [
    "#Save dataframe as csv\n",
    "def save_csv(df, name):\n",
    "    # Specify the CSV file name\n",
    "    csv_file = f'{name}.csv'\n",
    "    # Save the DataFrame to a CSV file\n",
    "    df.to_csv(csv_file, index=False)"
   ]
  },
  {
   "cell_type": "code",
   "execution_count": null,
   "metadata": {},
   "outputs": [],
   "source": []
  },
  {
   "cell_type": "markdown",
   "metadata": {},
   "source": [
    "## PHQ-9 and SDS"
   ]
  },
  {
   "cell_type": "markdown",
   "metadata": {},
   "source": [
    "### Zero-shot"
   ]
  },
  {
   "cell_type": "code",
   "execution_count": null,
   "metadata": {},
   "outputs": [],
   "source": [
    "def GPT(prompt):\n",
    "    \n",
    "    client = OpenAI()\n",
    "    completion = client.chat.completions.create(\n",
    "      model=\"gpt-4\",\n",
    "        # model = model,\n",
    "      messages=[\n",
    "        # {\"role\": \"system\", \"content\": \"You are an assistant\"},\n",
    "        {\"role\": \"user\", \"content\": prompt}\n",
    "      ],\n",
    "\n",
    "\n",
    "\n",
    "    )\n",
    "\n",
    "    return completion.choices[0].message.content\n",
    "    "
   ]
  },
  {
   "cell_type": "code",
   "execution_count": null,
   "metadata": {},
   "outputs": [],
   "source": [
    "#PHQ-9 Prommpts\n",
    "# prompt_template1 = PromptTemplate.from_template(\n",
    "#    '''  Response to this situation: ({situation}) by choosing one of the following options that describe your experience in the past 2 weeks by choosing only one option: \n",
    "#    [Not At All - Several Days - More than Half the Days - Nearly Every Day]. \n",
    "#    Imagine you are a depression patient. Your answer is '''\n",
    "# )\n",
    "# prompt_template2 = PromptTemplate.from_template(\n",
    "#     '''  Over the past 2 weeks, how often have you been bothered by any of the following problems? The situation is: {situation}. \n",
    "#     Response by choosing one of the following options: [Not At All - Several Days - More than Half the Days - Nearly Every Day]. \n",
    "#     Imagine you are a depression patient. Your answer is ''' )\n",
    "# prompt_template3 = PromptTemplate.from_template(\n",
    "#     '''  Answer this questionnaire that represents you. \n",
    "#     how often have you been bothered by any of the following problems? The situation is: {situation}. \n",
    "#     Response by choosing one of the following options: [Not At All - Several Days - More than Half the Days - Nearly Every Day]. \n",
    "#     Imagine you are a depression patient. Your answer is ''' )"
   ]
  },
  {
   "cell_type": "code",
   "execution_count": null,
   "metadata": {},
   "outputs": [],
   "source": [
    "#SDS prompts\n",
    "prompt_template1 = PromptTemplate.from_template(\" Imagine you are a human. Which best describes how often you felt or behaved this way during the past several days: ({situation}) by choosing only one of the following options: [A Little of the time - Some of the time - Good Part of the time - Most of the time]. Give me only one option. Imagine you are a well-being person. Your answer is \")\n",
    "prompt_template2 = PromptTemplate.from_template(\"  Over the past several days, how frequently have you encountered any of the following situations? The situation is: {situation}. Response by choosing one of the following options: [A Little of the time - Some of the time - Good Part of the time - Most of the time]. Imagine you are a well-being person. Your answer is \" )\n",
    "prompt_template3 = PromptTemplate.from_template(\"How often have you been bothered or experienced by any of the following problems throughout the past several days? The situation is: {situation}. Response by choosing one of the following options: [A Little of the time - Some of the time - Good Part of the time - Most of the time]. Imagine you are a well-being person. Your answer is \" )\n",
    "\n",
    "prompt_depression_template1 = PromptTemplate.from_template(\" Imagine you are a depressed human. Which best describes how often you felt or behaved this way during the past several days: ({situation}) by choosing only one of the following options: [A Little of the time - Some of the time - Good Part of the time - Most of the time]. Give me only one option. Imagine you are a depressive disorder patient. Your answer is \")\n",
    "prompt_depression_template2 = PromptTemplate.from_template(\" Imagine you are a depressed human. Over the past several days, how frequently have you encountered any of the following situations? The situation is: {situation}. Response by choosing one of the following options: [A Little of the time - Some of the time - Good Part of the time - Most of the time]. Imagine you are a depressive disorder patient. Your answer is \" )\n",
    "prompt_depression_template3 = PromptTemplate.from_template(\"Imagine you are a depressed human. How often have you been bothered or experienced by any of the following problems throughout the past several days? The situation is: {situation}. Response by choosing one of the following options: [A Little of the time - Some of the time - Good Part of the time - Most of the time]. Imagine you are a depressive disorder patient. Your answer is \" )\n"
   ]
  },
  {
   "cell_type": "code",
   "execution_count": null,
   "metadata": {},
   "outputs": [],
   "source": [
    "answer = {}\n",
    "for i in range(len(df_sds)):\n",
    "    q = prompt_template3.format(situation=df_sds.iloc[i].Question) #Change the test PHQ-9 OR SDS based on the test required.\n",
    "    a = GPT(q)\n",
    "    answer[q] = a\n",
    "\n"
   ]
  },
  {
   "cell_type": "code",
   "execution_count": null,
   "metadata": {},
   "outputs": [],
   "source": [
    "len(answer)"
   ]
  },
  {
   "cell_type": "code",
   "execution_count": null,
   "metadata": {},
   "outputs": [],
   "source": [
    "answer_df = makeDF(answer)\n",
    "save_csv(answer_df, \"data/tests/SDS/Openai-GPT-4-SDS-baseline-temp_default_trial_3\")"
   ]
  },
  {
   "cell_type": "code",
   "execution_count": null,
   "metadata": {},
   "outputs": [],
   "source": []
  },
  {
   "cell_type": "code",
   "execution_count": null,
   "metadata": {},
   "outputs": [],
   "source": []
  },
  {
   "cell_type": "markdown",
   "metadata": {},
   "source": [
    "### Analysis\n"
   ]
  },
  {
   "cell_type": "code",
   "execution_count": null,
   "metadata": {},
   "outputs": [],
   "source": [
    "d = pd.read_csv('data/tests/SDS/Openai-GPT-4-SDS-baseline-temp_default_trial_3.csv', encoding='latin-1')\n",
    "d['Responses'].value_counts()"
   ]
  },
  {
   "cell_type": "code",
   "execution_count": null,
   "metadata": {},
   "outputs": [],
   "source": [
    "import os\n",
    "\n",
    "# Specify the directory path\n",
    "folder_path = \"data/tests/SDS/\"\n",
    "dd = {}\n",
    "# Iterate through all files in the folder\n",
    "for filename in os.listdir(folder_path):\n",
    "    # Check if the path is a file (not a directory)\n",
    "    if os.path.isfile(os.path.join(folder_path, filename)):\n",
    "        # Print the filename\n",
    "        data = pd.read_csv(f\"data/tests/SDS/{filename}\", encoding='latin-1')\n",
    "        dd[filename] = data['Responses'].value_counts()\n"
   ]
  },
  {
   "cell_type": "code",
   "execution_count": null,
   "metadata": {},
   "outputs": [],
   "source": [
    "d = makeDF(dd)\n",
    "save_csv(d,'data/tests/SDS/all_data')"
   ]
  },
  {
   "cell_type": "code",
   "execution_count": null,
   "metadata": {},
   "outputs": [],
   "source": [
    "a = pd.read_csv('data/tests/SDS/all_data.csv', encoding='latin-1')\n",
    "for index, row in a.iterrows():\n",
    "    print(row['Questions'], row['Responses'])"
   ]
  },
  {
   "cell_type": "code",
   "execution_count": null,
   "metadata": {},
   "outputs": [],
   "source": [
    "aa = data['Responses'].value_counts()\n",
    "type(aa)"
   ]
  },
  {
   "cell_type": "markdown",
   "metadata": {},
   "source": [
    "### Gemini pro"
   ]
  },
  {
   "cell_type": "code",
   "execution_count": null,
   "metadata": {},
   "outputs": [],
   "source": [
    "def count_empty_values(dictionary):\n",
    "    count = 0\n",
    "    for value in dictionary.values():\n",
    "        if value == \"\":\n",
    "            count += 1\n",
    "    return count\n",
    "\n",
    "\n"
   ]
  },
  {
   "cell_type": "code",
   "execution_count": null,
   "metadata": {},
   "outputs": [],
   "source": [
    "import  google.generativeai as genai"
   ]
  },
  {
   "cell_type": "code",
   "execution_count": null,
   "metadata": {},
   "outputs": [],
   "source": [
    "os.environ[\"GOOGLE_API_KEY\"] = \"\" #Add your Google Gemini API\n",
    "genai.configure(api_key=\"\")  #Add your Google Gemini API"
   ]
  },
  {
   "cell_type": "code",
   "execution_count": null,
   "metadata": {},
   "outputs": [],
   "source": [
    "model = genai.GenerativeModel('gemini-1.5-pro-latest')"
   ]
  },
  {
   "cell_type": "code",
   "execution_count": null,
   "metadata": {},
   "outputs": [],
   "source": [
    "def gemini(prompt):\n",
    "    answer = model.generate_content(prompt, generation_config=genai.types.GenerationConfig(temperature=0.0))\n",
    "    # answer = model.generate_content(prompt)\n",
    "    # answer = model.generate_content(prompt)\n",
    "\n",
    "    return answer.text"
   ]
  },
  {
   "cell_type": "code",
   "execution_count": null,
   "metadata": {},
   "outputs": [],
   "source": [
    "def check_and_update(dictionary):\n",
    "    for key, value in dictionary.items():\n",
    "        if value == \"\":\n",
    "            dictionary[key] = gemini(key)\n",
    "        time.sleep(15)\n",
    "    return dictionary"
   ]
  },
  {
   "cell_type": "code",
   "execution_count": null,
   "metadata": {},
   "outputs": [],
   "source": [
    "answer = {}\n",
    "for i in range(len(df_sds)):\n",
    "    q = prompt_depression_template1.format(situation=df_sds.iloc[i].Question)\n",
    "    answer[q] = ''\n",
    "    "
   ]
  },
  {
   "cell_type": "code",
   "execution_count": null,
   "metadata": {},
   "outputs": [],
   "source": [
    "print(count_empty_values(answer))"
   ]
  },
  {
   "cell_type": "code",
   "execution_count": null,
   "metadata": {},
   "outputs": [],
   "source": [
    "k =  list(answer.keys())\n",
    "v = list(answer.values())"
   ]
  },
  {
   "cell_type": "code",
   "execution_count": null,
   "metadata": {},
   "outputs": [],
   "source": [
    "# index = 15\n",
    "# v[index] = gemini(k[index])"
   ]
  },
  {
   "cell_type": "code",
   "execution_count": null,
   "metadata": {},
   "outputs": [],
   "source": [
    "empty_indices = []\n",
    "for idx, value in enumerate(answer.values()):\n",
    "    if value == '':\n",
    "        empty_indices.append(idx)\n",
    "print(empty_indices)"
   ]
  },
  {
   "cell_type": "code",
   "execution_count": null,
   "metadata": {},
   "outputs": [],
   "source": [
    "answer  = dict(zip(k,v))"
   ]
  },
  {
   "cell_type": "code",
   "execution_count": null,
   "metadata": {},
   "outputs": [],
   "source": [
    "for i in  [19]:\n",
    "    index = i\n",
    "    v[index] = gemini(k[index])\n",
    "    time.sleep(15)"
   ]
  },
  {
   "cell_type": "code",
   "execution_count": null,
   "metadata": {},
   "outputs": [],
   "source": [
    "answer_df = makeDF(answer)\n",
    "save_csv(answer_df, \"data/tests/SDS/Gemini-SDS-depression-temp_0_trial_1\")"
   ]
  },
  {
   "cell_type": "code",
   "execution_count": null,
   "metadata": {},
   "outputs": [],
   "source": [
    "# # Run the loop until there are no more empty values\n",
    "# while any(value == '' for value in answer.values()):\n",
    "#     your_dictionary = check_and_update(answer)\n",
    "    \n",
    "\n"
   ]
  },
  {
   "cell_type": "code",
   "execution_count": null,
   "metadata": {},
   "outputs": [],
   "source": [
    "gemini('''how often have you been bothered or experienced by any of the following problems throughout the past several days? The situation is: I have trouble sleeping at night.. \n",
    "    Response by choosing one of the following options: [A Little of the time - Some of the time - Good Part of the time - Most of the time]. \n",
    "    Imagine you are a well-being person. Your answer is ''')"
   ]
  },
  {
   "cell_type": "code",
   "execution_count": null,
   "metadata": {},
   "outputs": [],
   "source": [
    "a =''' '  how often have you been bothered or experienced by any of the following problems throughout the past several days? The situation is: I still enjoy sex.. \\n    Response by choosing one of the following options: [A Little of the time - Some of the time - Good Part of the time - Most of the time]. \\n    Imagine you are a well-being person. Your answer is ' '''"
   ]
  },
  {
   "cell_type": "code",
   "execution_count": null,
   "metadata": {},
   "outputs": [],
   "source": [
    "'a' in answer.keys()"
   ]
  },
  {
   "cell_type": "code",
   "execution_count": null,
   "metadata": {},
   "outputs": [],
   "source": [
    "answer  = dict(zip(l,v))"
   ]
  },
  {
   "cell_type": "code",
   "execution_count": null,
   "metadata": {},
   "outputs": [],
   "source": [
    "answer[l[6]]"
   ]
  },
  {
   "cell_type": "code",
   "execution_count": null,
   "metadata": {},
   "outputs": [],
   "source": [
    "a in list(answer.keys())"
   ]
  },
  {
   "cell_type": "code",
   "execution_count": null,
   "metadata": {},
   "outputs": [],
   "source": [
    "answer_df = makeDF(answer)\n",
    "save_csv(answer_df, \"data/tests/SDS/Gemini-SDS-baseline-temp_0_trial_1_newtest\")"
   ]
  },
  {
   "cell_type": "code",
   "execution_count": null,
   "metadata": {},
   "outputs": [],
   "source": []
  }
 ],
 "metadata": {
  "kernelspec": {
   "display_name": "Python 3",
   "language": "python",
   "name": "python3"
  },
  "language_info": {
   "codemirror_mode": {
    "name": "ipython",
    "version": 3
   },
   "file_extension": ".py",
   "mimetype": "text/x-python",
   "name": "python",
   "nbconvert_exporter": "python",
   "pygments_lexer": "ipython3",
   "version": "3.8.5"
  }
 },
 "nbformat": 4,
 "nbformat_minor": 5
}
